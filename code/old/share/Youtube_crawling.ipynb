{
 "cells": [
  {
   "cell_type": "code",
   "execution_count": 1,
   "metadata": {},
   "outputs": [],
   "source": [
    "import Youtube_crawling_func as YC\n",
    "import pandas as pd\n",
    "from tqdm import tqdm\n",
    "from datetime import datetime\n",
    "\n",
    "o = 'date'\n",
    "total = pd.DataFrame()\n",
    "for d in tqdm(range(1, 31)):\n",
    "    st = '2022-08-'+str(d)+'T00:00:00Z'\n",
    "    if d == 31:\n",
    "        end = '2022-09-01T00:00:00Z'\n",
    "    else:  \n",
    "        end = '2022-08-'+str(d + 1)+'T00:00:00Z'\n",
    "    options = YC.EasyDict({'channelId':'UCTHCOPwqNfZ0uiKOvFyhGwg', \"order\": o, \"publishedAfter\": st, \"publishedBefore\": end})\n",
    "\n",
    "    df, v_id_list = YC.video_info(options)\n",
    "    cdf = YC.comment(v_id_list)\n",
    "    capdf = YC.captions(v_id_list , df['cap'].to_list())\n",
    "    day = pd.merge(df,cdf, how='left', on='video_id')\n",
    "    day = pd.merge(day,capdf, how='left', on='video_id')\n",
    "\n",
    "    total = pd.concat([total, day], axis = 0)\n",
    "    print(f\"day : {day.shape[0]} // total : {total.shape[0]}\")\n",
    "\n",
    "total = total.reset_index(drop = True)\n",
    "total.to_pickle(\"../data/NEWS_test.pkl\")"
   ]
  }
 ],
 "metadata": {
  "kernelspec": {
   "display_name": "Python 3.8.12 ('save')",
   "language": "python",
   "name": "python3"
  },
  "language_info": {
   "codemirror_mode": {
    "name": "ipython",
    "version": 3
   },
   "file_extension": ".py",
   "mimetype": "text/x-python",
   "name": "python",
   "nbconvert_exporter": "python",
   "pygments_lexer": "ipython3",
   "version": "3.8.12"
  },
  "orig_nbformat": 4,
  "vscode": {
   "interpreter": {
    "hash": "6632c70ce360d611e847e5318887868e2366d56c00e5f501b5a0b067a934dfe7"
   }
  }
 },
 "nbformat": 4,
 "nbformat_minor": 2
}
