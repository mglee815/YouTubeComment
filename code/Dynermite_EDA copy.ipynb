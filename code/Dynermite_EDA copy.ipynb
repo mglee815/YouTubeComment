{
 "cells": [
  {
   "cell_type": "code",
   "execution_count": 3,
   "metadata": {},
   "outputs": [],
   "source": [
    "import pandas as pd\n",
    "import re\n",
    "import numpy as np\n",
    "\n",
    "import matplotlib.pyplot as plt"
   ]
  },
  {
   "cell_type": "code",
   "execution_count": 4,
   "metadata": {},
   "outputs": [],
   "source": [
    "data = pd.read_csv(\"../result/Dynamite_YouTubeComment_20020_7_21_14.csv\")"
   ]
  },
  {
   "cell_type": "code",
   "execution_count": 5,
   "metadata": {},
   "outputs": [
    {
     "data": {
      "text/html": [
       "<div>\n",
       "<style scoped>\n",
       "    .dataframe tbody tr th:only-of-type {\n",
       "        vertical-align: middle;\n",
       "    }\n",
       "\n",
       "    .dataframe tbody tr th {\n",
       "        vertical-align: top;\n",
       "    }\n",
       "\n",
       "    .dataframe thead th {\n",
       "        text-align: right;\n",
       "    }\n",
       "</style>\n",
       "<table border=\"1\" class=\"dataframe\">\n",
       "  <thead>\n",
       "    <tr style=\"text-align: right;\">\n",
       "      <th></th>\n",
       "      <th>Unnamed: 0</th>\n",
       "      <th>댓글 작성자</th>\n",
       "      <th>댓글</th>\n",
       "      <th>좋아요 개수</th>\n",
       "    </tr>\n",
       "  </thead>\n",
       "  <tbody>\n",
       "    <tr>\n",
       "      <th>0</th>\n",
       "      <td>1</td>\n",
       "      <td>famili k-pop</td>\n",
       "      <td>Armys reportense con su like si están haciendo...</td>\n",
       "      <td>3.1천</td>\n",
       "    </tr>\n",
       "    <tr>\n",
       "      <th>1</th>\n",
       "      <td>2</td>\n",
       "      <td>Jaela V</td>\n",
       "      <td>CAN’T STOP SMILING! this is such a feel good, ...</td>\n",
       "      <td>10만</td>\n",
       "    </tr>\n",
       "    <tr>\n",
       "      <th>2</th>\n",
       "      <td>3</td>\n",
       "      <td>Дарья Симан</td>\n",
       "      <td>Thank you for all of your hard work !!! The mu...</td>\n",
       "      <td>15만</td>\n",
       "    </tr>\n",
       "    <tr>\n",
       "      <th>3</th>\n",
       "      <td>4</td>\n",
       "      <td>Fatma Durmaz</td>\n",
       "      <td>I am so proud of these boys who can sing so ve...</td>\n",
       "      <td>7.4만</td>\n",
       "    </tr>\n",
       "    <tr>\n",
       "      <th>4</th>\n",
       "      <td>5</td>\n",
       "      <td>___u</td>\n",
       "      <td>i love how they’re breaking record after recor...</td>\n",
       "      <td>8만</td>\n",
       "    </tr>\n",
       "    <tr>\n",
       "      <th>...</th>\n",
       "      <td>...</td>\n",
       "      <td>...</td>\n",
       "      <td>...</td>\n",
       "      <td>...</td>\n",
       "    </tr>\n",
       "    <tr>\n",
       "      <th>5120</th>\n",
       "      <td>5121</td>\n",
       "      <td>EIA Valeria Cervantes</td>\n",
       "      <td>Es increíble como los Grammys pasaron de ser c...</td>\n",
       "      <td>204</td>\n",
       "    </tr>\n",
       "    <tr>\n",
       "      <th>5121</th>\n",
       "      <td>5122</td>\n",
       "      <td>방탄 소년단Tu amiga army</td>\n",
       "      <td>Bts no ganó los grammys pero también los gramm...</td>\n",
       "      <td>123</td>\n",
       "    </tr>\n",
       "    <tr>\n",
       "      <th>5122</th>\n",
       "      <td>5123</td>\n",
       "      <td>⟭⟬ᴋᴏᴏᴋᴍɪᴍɪ⟭⟬</td>\n",
       "      <td>Recuerden Amys; \"Juntos ya lo tenemos todo\" No...</td>\n",
       "      <td>191</td>\n",
       "    </tr>\n",
       "    <tr>\n",
       "      <th>5123</th>\n",
       "      <td>5124</td>\n",
       "      <td>paula</td>\n",
       "      <td>Gracias a todas las armys que cumplieron con e...</td>\n",
       "      <td>128</td>\n",
       "    </tr>\n",
       "    <tr>\n",
       "      <th>5124</th>\n",
       "      <td>5125</td>\n",
       "      <td>Emily Bendezu Yura</td>\n",
       "      <td>“A medida que BTS sigue rompiendo récords, los...</td>\n",
       "      <td>189</td>\n",
       "    </tr>\n",
       "  </tbody>\n",
       "</table>\n",
       "<p>5125 rows × 4 columns</p>\n",
       "</div>"
      ],
      "text/plain": [
       "      Unnamed: 0                 댓글 작성자  \\\n",
       "0              1           famili k-pop   \n",
       "1              2                Jaela V   \n",
       "2              3            Дарья Симан   \n",
       "3              4           Fatma Durmaz   \n",
       "4              5                   ___u   \n",
       "...          ...                    ...   \n",
       "5120        5121  EIA Valeria Cervantes   \n",
       "5121        5122    방탄 소년단Tu amiga army   \n",
       "5122        5123           ⟭⟬ᴋᴏᴏᴋᴍɪᴍɪ⟭⟬   \n",
       "5123        5124                  paula   \n",
       "5124        5125     Emily Bendezu Yura   \n",
       "\n",
       "                                                     댓글 좋아요 개수  \n",
       "0     Armys reportense con su like si están haciendo...   3.1천  \n",
       "1     CAN’T STOP SMILING! this is such a feel good, ...    10만  \n",
       "2     Thank you for all of your hard work !!! The mu...    15만  \n",
       "3     I am so proud of these boys who can sing so ve...   7.4만  \n",
       "4     i love how they’re breaking record after recor...     8만  \n",
       "...                                                 ...    ...  \n",
       "5120  Es increíble como los Grammys pasaron de ser c...    204  \n",
       "5121  Bts no ganó los grammys pero también los gramm...    123  \n",
       "5122  Recuerden Amys; \"Juntos ya lo tenemos todo\" No...    191  \n",
       "5123  Gracias a todas las armys que cumplieron con e...    128  \n",
       "5124  “A medida que BTS sigue rompiendo récords, los...    189  \n",
       "\n",
       "[5125 rows x 4 columns]"
      ]
     },
     "execution_count": 5,
     "metadata": {},
     "output_type": "execute_result"
    }
   ],
   "source": [
    "data"
   ]
  },
  {
   "cell_type": "code",
   "execution_count": 6,
   "metadata": {},
   "outputs": [],
   "source": [
    "def like_int(data):\n",
    "    temp = []\n",
    "    for like in data:\n",
    "        unit = re.compile(\"[가-힇]+\").findall(like)\n",
    "        if unit == ['만']:\n",
    "            like = float(like.replace(unit[0], \"\"))\n",
    "            like *= 10000\n",
    "        elif unit == ['천']:\n",
    "            like = float(like.replace(unit[0], \"\"))\n",
    "            like *= 1000\n",
    "        else:\n",
    "            like = float(like)\n",
    "        \n",
    "        temp.append(like)\n",
    "            \n",
    "    return temp"
   ]
  },
  {
   "cell_type": "code",
   "execution_count": 7,
   "metadata": {},
   "outputs": [],
   "source": [
    "data['좋아요 개수'] = like_int(data['좋아요 개수'])"
   ]
  },
  {
   "cell_type": "code",
   "execution_count": 8,
   "metadata": {},
   "outputs": [
    {
     "data": {
      "text/plain": [
       "count      5125.000000\n",
       "mean       1355.303610\n",
       "std        8831.711938\n",
       "min           0.000000\n",
       "25%           1.000000\n",
       "50%           3.000000\n",
       "75%         165.000000\n",
       "max      320000.000000\n",
       "Name: 좋아요 개수, dtype: float64"
      ]
     },
     "execution_count": 8,
     "metadata": {},
     "output_type": "execute_result"
    }
   ],
   "source": [
    "data['좋아요 개수'].describe()"
   ]
  },
  {
   "cell_type": "code",
   "execution_count": 9,
   "metadata": {},
   "outputs": [
    {
     "data": {
      "text/plain": [
       "0.0         653\n",
       "1.0         793\n",
       "2.0         863\n",
       "3.0         380\n",
       "4.0         192\n",
       "           ... \n",
       "130000.0      2\n",
       "150000.0      1\n",
       "160000.0      1\n",
       "190000.0      1\n",
       "320000.0      1\n",
       "Name: 좋아요 개수, Length: 720, dtype: int64"
      ]
     },
     "execution_count": 9,
     "metadata": {},
     "output_type": "execute_result"
    }
   ],
   "source": [
    "data['좋아요 개수'].value_counts().sort_index()"
   ]
  },
  {
   "cell_type": "code",
   "execution_count": 10,
   "metadata": {},
   "outputs": [
    {
     "data": {
      "image/png": "[encoded data removed]",
      "text/plain": [
       "<Figure size 432x288 with 1 Axes>"
      ]
     },
     "metadata": {
      "needs_background": "light"
     },
     "output_type": "display_data"
    }
   ],
   "source": [
    "plt.plot(data['좋아요 개수'].value_counts().sort_index())\n",
    "plt.show()"
   ]
  },
  {
   "cell_type": "code",
   "execution_count": 11,
   "metadata": {},
   "outputs": [
    {
     "data": {
      "image/png": "[encoded data removed]",
      "text/plain": [
       "<Figure size 432x288 with 1 Axes>"
      ]
     },
     "metadata": {
      "needs_background": "light"
     },
     "output_type": "display_data"
    }
   ],
   "source": [
    "plt.plot(np.log(data['좋아요 개수'].value_counts().sort_index()))\n",
    "plt.show()"
   ]
  },
  {
   "cell_type": "code",
   "execution_count": 12,
   "metadata": {},
   "outputs": [
    {
     "data": {
      "image/png": "[encoded data removed]",
      "text/plain": [
       "<Figure size 432x288 with 1 Axes>"
      ]
     },
     "metadata": {
      "needs_background": "light"
     },
     "output_type": "display_data"
    }
   ],
   "source": [
    "plt.plot(data['좋아요 개수'].value_counts().sort_index()[10:])\n",
    "plt.show()"
   ]
  }
 ],
 "metadata": {
  "kernelspec": {
   "display_name": "Python 3.9.7",
   "language": "python",
   "name": "python3"
  },
  "language_info": {
   "codemirror_mode": {
    "name": "ipython",
    "version": 3
   },
   "file_extension": ".py",
   "mimetype": "text/x-python",
   "name": "python",
   "nbconvert_exporter": "python",
   "pygments_lexer": "ipython3",
   "version": "3.9.7"
  },
  "orig_nbformat": 4,
  "vscode": {
   "interpreter": {
    "hash": "418ec1ce35a4fd63396f5da21f0079b494a3a09ebdcc1e5da80233ed37ee8285"
   }
  }
 },
 "nbformat": 4,
 "nbformat_minor": 2
}
