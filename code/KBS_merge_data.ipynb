{
 "cells": [
  {
   "cell_type": "code",
   "execution_count": 1,
   "metadata": {},
   "outputs": [],
   "source": [
    "import pandas as pd"
   ]
  },
  {
   "cell_type": "code",
   "execution_count": 16,
   "metadata": {},
   "outputs": [
    {
     "name": "stdout",
     "output_type": "stream",
     "text": [
      "KBS_2020-03-01_2018-10-18.pkl\n",
      "(119885, 18)\n",
      "KBS_2014-08-29_2012-06-03.pkl\n",
      "(46332, 18)\n",
      "KBS_2020-12-31_2020-03-01.pkl\n",
      "(233544, 18)\n",
      "KBS_2018-10-18_2016-08-09.pkl\n",
      "(111115, 18)\n",
      "KBS_2021-11-05_2022-01-01.pkl\n",
      "(49499, 18)\n",
      "KBS_2016-08-09_2014-08-29.pkl\n",
      "(110162, 18)\n",
      "KBS_2021-01-01_2021-11-03.pkl\n",
      "(366046, 18)\n"
     ]
    }
   ],
   "source": [
    "import os\n",
    "\n",
    "PATH = \"../data/NEWS/KBS/KBS_before2022/\"\n",
    "\n",
    "df = pd.DataFrame()\n",
    "for file in os.listdir(PATH):\n",
    "    if file[-3:] == 'pkl':\n",
    "        print(file)\n",
    "        temp = pd.read_pickle(f\"{PATH}/{file}\")\n",
    "        print(temp.shape)\n",
    "        df = pd.concat([df, temp], axis = 0)\n",
    "    else:\n",
    "        print(f\"{file} PASS\")\n"
   ]
  },
  {
   "cell_type": "code",
   "execution_count": 17,
   "metadata": {},
   "outputs": [
    {
     "name": "stdout",
     "output_type": "stream",
     "text": [
      "KBS_0101_0831.pkl\n",
      "(889822, 21)\n",
      "KBS_130905_211231.pkl\n",
      "(1036583, 20)\n",
      "KBS2201_2208 PASS\n",
      "KBS_before2022 PASS\n"
     ]
    }
   ],
   "source": [
    "PATH = \"../data/NEWS/KBS/\"\n",
    "\n",
    "df = pd.DataFrame()\n",
    "for file in os.listdir(PATH):\n",
    "    if file[-3:] == 'pkl':\n",
    "        print(file)\n",
    "        temp = pd.read_pickle(f\"{PATH}/{file}\")\n",
    "        print(temp.shape)\n",
    "        df = pd.concat([df, temp], axis = 0)\n",
    "    else:\n",
    "        print(f\"{file} PASS\")"
   ]
  },
  {
   "cell_type": "code",
   "execution_count": 18,
   "metadata": {},
   "outputs": [],
   "source": [
    "df.reset_index(drop = True, inplace= True)"
   ]
  },
  {
   "cell_type": "code",
   "execution_count": 19,
   "metadata": {},
   "outputs": [],
   "source": [
    "df['year'] = df['time'].apply(lambda x : x[:4])"
   ]
  },
  {
   "cell_type": "code",
   "execution_count": 20,
   "metadata": {},
   "outputs": [],
   "source": [
    "df.reset_index(drop = True, inplace= True)"
   ]
  },
  {
   "cell_type": "code",
   "execution_count": 21,
   "metadata": {},
   "outputs": [],
   "source": [
    "df['ymd'] = df['time'].apply(lambda x : x[:10])"
   ]
  },
  {
   "cell_type": "code",
   "execution_count": 22,
   "metadata": {},
   "outputs": [
    {
     "data": {
      "text/plain": [
       "ymd\n",
       "2013-09-05     1031\n",
       "2013-09-06      580\n",
       "2013-09-07       15\n",
       "2013-09-08        6\n",
       "2013-09-09      271\n",
       "              ...  \n",
       "2022-08-27     8560\n",
       "2022-08-28     9738\n",
       "2022-08-29    22962\n",
       "2022-08-30    14748\n",
       "2022-08-31    12606\n",
       "Length: 3160, dtype: int64"
      ]
     },
     "execution_count": 22,
     "metadata": {},
     "output_type": "execute_result"
    }
   ],
   "source": [
    "df.groupby('ymd').size()"
   ]
  },
  {
   "cell_type": "code",
   "execution_count": 23,
   "metadata": {},
   "outputs": [],
   "source": [
    "df = df.sort_values('ymd')\n",
    "df.reset_index(drop = True, inplace = True)"
   ]
  },
  {
   "cell_type": "code",
   "execution_count": 24,
   "metadata": {},
   "outputs": [
    {
     "data": {
      "text/plain": [
       "(1926405, 21)"
      ]
     },
     "execution_count": 24,
     "metadata": {},
     "output_type": "execute_result"
    }
   ],
   "source": [
    "df.shape"
   ]
  },
  {
   "cell_type": "code",
   "execution_count": 25,
   "metadata": {},
   "outputs": [],
   "source": [
    "df.to_pickle('../data/NEWS/KBS/KBS_130905_220831.pkl')"
   ]
  },
  {
   "cell_type": "code",
   "execution_count": 26,
   "metadata": {},
   "outputs": [
    {
     "data": {
      "text/plain": [
       "Text(0.5, 1.0, 'KBS ~ 2022-0831 comments')"
      ]
     },
     "execution_count": 26,
     "metadata": {},
     "output_type": "execute_result"
    },
    {
     "data": {
      "image/png": "[encoded data removed]",
      "text/plain": [
       "<Figure size 432x288 with 1 Axes>"
      ]
     },
     "metadata": {
      "needs_background": "light"
     },
     "output_type": "display_data"
    }
   ],
   "source": [
    "import matplotlib.pyplot as plt\n",
    "\n",
    "plt.plot(df.groupby('ymd').size())\n",
    "plt.title(\"KBS ~ 2022-0831 comments\")"
   ]
  },
  {
   "cell_type": "code",
   "execution_count": 27,
   "metadata": {},
   "outputs": [
    {
     "data": {
      "text/plain": [
       "Text(0.5, 1.0, 'KBS 2016-0809~2021-1231 video')"
      ]
     },
     "execution_count": 27,
     "metadata": {},
     "output_type": "execute_result"
    },
    {
     "data": {
      "image/png": "[encoded data removed]",
      "text/plain": [
       "<Figure size 432x288 with 1 Axes>"
      ]
     },
     "metadata": {
      "needs_background": "light"
     },
     "output_type": "display_data"
    }
   ],
   "source": [
    "plt.plot(df.drop_duplicates('video_title').groupby('ymd').size())\n",
    "plt.title(\"KBS ~ 2022-0831 video\")"
   ]
  },
  {
   "cell_type": "code",
   "execution_count": 32,
   "metadata": {},
   "outputs": [
    {
     "data": {
      "text/plain": [
       "13007                                        마이피플은일하는사람들이쓰는데\n",
       "13025                                               전 라인좋아해요\n",
       "40727                                                    NaN\n",
       "41740                              다음 마이피플과 요즘 잘 썼는데, 너무 아쉬움\n",
       "41747                                          카카오는  텐센트 실험쥐\n",
       "                                 ...                        \n",
       "1884221    규제만이 정답은 아니지 옛날에도 카카오톡을 이렇게 휘둘렀다가 사이버 망명이 생겨서 ...\n",
       "1887455    내가 카카오 블루 기사거든 오늘 어떤놈이 지프<br>라이타를 떨궜다고 해서 보니 있...\n",
       "1898346    보이스 피싱을 막으려면 해킹 기술을 먼저 이해를 해야 합니다.\\r<br>참고로 KB...\n",
       "1898347    나이스<br>보이스 피싱을 막으려면 해킹 기술을 먼저 이해를 해야 합니다.\\r<br...\n",
       "1914143          그래도 카카오 보단 개인정보 보호에 탁월합니다.  <br>양날의 검이긴 하죠.\n",
       "Name: comment, Length: 2140, dtype: object"
      ]
     },
     "execution_count": 32,
     "metadata": {},
     "output_type": "execute_result"
    }
   ],
   "source": [
    "lst = []\n",
    "TARGET = '카카오'\n",
    "\n",
    "\n",
    "for idx, i in enumerate(df['video_title']):\n",
    "    if TARGET in i:\n",
    "        lst.append(idx)\n",
    "\n",
    "for idx, i in enumerate(df['comment']):\n",
    "    if TARGET in str(i):\n",
    "        lst.append(idx)\n",
    "\n",
    "list(set(lst))\n",
    "\n",
    "df.loc[lst,'comment']"
   ]
  },
  {
   "cell_type": "code",
   "execution_count": 33,
   "metadata": {},
   "outputs": [],
   "source": [
    "kakao = df.loc[lst,:]"
   ]
  },
  {
   "cell_type": "code",
   "execution_count": 34,
   "metadata": {},
   "outputs": [],
   "source": [
    "kakao.to_csv('./kakao_comment_2208.csv')"
   ]
  }
 ],
 "metadata": {
  "kernelspec": {
   "display_name": "Python 3.8.12 ('save')",
   "language": "python",
   "name": "python3"
  },
  "language_info": {
   "codemirror_mode": {
    "name": "ipython",
    "version": 3
   },
   "file_extension": ".py",
   "mimetype": "text/x-python",
   "name": "python",
   "nbconvert_exporter": "python",
   "pygments_lexer": "ipython3",
   "version": "3.8.12"
  },
  "orig_nbformat": 4,
  "vscode": {
   "interpreter": {
    "hash": "6632c70ce360d611e847e5318887868e2366d56c00e5f501b5a0b067a934dfe7"
   }
  }
 },
 "nbformat": 4,
 "nbformat_minor": 2
}
