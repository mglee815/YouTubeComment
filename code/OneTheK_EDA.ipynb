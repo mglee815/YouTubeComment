{
 "cells": [
  {
   "cell_type": "code",
   "execution_count": 1,
   "metadata": {},
   "outputs": [
    {
     "name": "stderr",
     "output_type": "stream",
     "text": [
      "Duplicate key in file PosixPath('/home/mglee/.conda/envs/svmglee/lib/python3.8/site-packages/matplotlib/mpl-data/matplotlibrc'), line 257 ('font.family:  NanumGothic')\n"
     ]
    }
   ],
   "source": [
    "import pandas as pd\n",
    "import re\n",
    "import numpy as np\n",
    "\n",
    "import matplotlib.pyplot as plt"
   ]
  },
  {
   "cell_type": "code",
   "execution_count": 24,
   "metadata": {},
   "outputs": [],
   "source": [
    "t_data = pd.read_csv(\"../data/1theK (원더케이)_2020-07-01_2022-07-01_comment_info_0722.csv\", lineterminator=\"\\n\")"
   ]
  },
  {
   "cell_type": "code",
   "execution_count": 43,
   "metadata": {},
   "outputs": [
    {
     "data": {
      "text/html": [
       "<div>\n",
       "<style scoped>\n",
       "    .dataframe tbody tr th:only-of-type {\n",
       "        vertical-align: middle;\n",
       "    }\n",
       "\n",
       "    .dataframe tbody tr th {\n",
       "        vertical-align: top;\n",
       "    }\n",
       "\n",
       "    .dataframe thead th {\n",
       "        text-align: right;\n",
       "    }\n",
       "</style>\n",
       "<table border=\"1\" class=\"dataframe\">\n",
       "  <thead>\n",
       "    <tr style=\"text-align: right;\">\n",
       "      <th></th>\n",
       "      <th>vidoeid</th>\n",
       "      <th>comment</th>\n",
       "      <th>comment_id</th>\n",
       "      <th>comment_time</th>\n",
       "    </tr>\n",
       "  </thead>\n",
       "  <tbody>\n",
       "    <tr>\n",
       "      <th>0</th>\n",
       "      <td>ED9Vght5Rj0</td>\n",
       "      <td>티져까지 멋짐 뿜뿜이다</td>\n",
       "      <td>UgxNyr3WUDuLsVjA7Bd4AaABAg</td>\n",
       "      <td>2022-07-10T03:09:21Z</td>\n",
       "    </tr>\n",
       "    <tr>\n",
       "      <th>1</th>\n",
       "      <td>ED9Vght5Rj0</td>\n",
       "      <td>영탁님 감사합니다😀&lt;br&gt;영탁님 새롭게발전했네요</td>\n",
       "      <td>UgyJNL2pChd5OxlBbGh4AaABAg</td>\n",
       "      <td>2022-07-06T07:30:41Z</td>\n",
       "    </tr>\n",
       "    <tr>\n",
       "      <th>2</th>\n",
       "      <td>ED9Vght5Rj0</td>\n",
       "      <td>K - POP 🌟 Trot hwangje Young Tak 최고의젠틀 Man 👨 펜...</td>\n",
       "      <td>Ugz_0wNdEX3Bx4fN1sx4AaABAg</td>\n",
       "      <td>2022-07-06T03:13:39Z</td>\n",
       "    </tr>\n",
       "    <tr>\n",
       "      <th>3</th>\n",
       "      <td>ED9Vght5Rj0</td>\n",
       "      <td>욍대박나세요  ㆍ영탁님 목소리에 힘들어  도  찐으로💕💕💕💕💕👍👍👍 ㆍ즐겁습니다</td>\n",
       "      <td>UgyGBev8ODvlqUYRuop4AaABAg</td>\n",
       "      <td>2022-07-05T15:37:33Z</td>\n",
       "    </tr>\n",
       "    <tr>\n",
       "      <th>4</th>\n",
       "      <td>ED9Vght5Rj0</td>\n",
       "      <td>두분의 캐미가 뮤비를 한층 고급지게 하네요. 신사답게  춤도 넘 매력적이에오</td>\n",
       "      <td>Ugx7VNmpvtS9BLyQo3B4AaABAg</td>\n",
       "      <td>2022-07-05T05:10:40Z</td>\n",
       "    </tr>\n",
       "    <tr>\n",
       "      <th>...</th>\n",
       "      <td>...</td>\n",
       "      <td>...</td>\n",
       "      <td>...</td>\n",
       "      <td>...</td>\n",
       "    </tr>\n",
       "    <tr>\n",
       "      <th>445979</th>\n",
       "      <td>iN2EgMckDZA</td>\n",
       "      <td>I love thissssss</td>\n",
       "      <td>UgyfkIfWAQGAVR77O714AaABAg</td>\n",
       "      <td>2021-07-11T09:51:08Z</td>\n",
       "    </tr>\n",
       "    <tr>\n",
       "      <th>445980</th>\n",
       "      <td>iN2EgMckDZA</td>\n",
       "      <td>Keep working, you have talent &amp;lt;3</td>\n",
       "      <td>UgznPhcuBtMSSVnj_4l4AaABAg</td>\n",
       "      <td>2021-07-11T09:51:02Z</td>\n",
       "    </tr>\n",
       "    <tr>\n",
       "      <th>445981</th>\n",
       "      <td>iN2EgMckDZA</td>\n",
       "      <td>I just found this today omg and this is so goo...</td>\n",
       "      <td>Ugy_Gb8iPyF-Qgu7SKt4AaABAg</td>\n",
       "      <td>2021-07-11T09:50:51Z</td>\n",
       "    </tr>\n",
       "    <tr>\n",
       "      <th>445982</th>\n",
       "      <td>iN2EgMckDZA</td>\n",
       "      <td>Nasıl olur da her şarkısı muhteşem olur. Bayıl...</td>\n",
       "      <td>Ugypi6pWAbh_PE1902t4AaABAg</td>\n",
       "      <td>2021-07-11T09:48:03Z</td>\n",
       "    </tr>\n",
       "    <tr>\n",
       "      <th>445983</th>\n",
       "      <td>iN2EgMckDZA</td>\n",
       "      <td>Why is everything ash island releases so good?!?!</td>\n",
       "      <td>UgzzpNAd4yhhIT-_6QB4AaABAg</td>\n",
       "      <td>2021-07-11T09:32:11Z</td>\n",
       "    </tr>\n",
       "  </tbody>\n",
       "</table>\n",
       "<p>445984 rows × 4 columns</p>\n",
       "</div>"
      ],
      "text/plain": [
       "            vidoeid                                            comment  \\\n",
       "0       ED9Vght5Rj0                                       티져까지 멋짐 뿜뿜이다   \n",
       "1       ED9Vght5Rj0                         영탁님 감사합니다😀<br>영탁님 새롭게발전했네요   \n",
       "2       ED9Vght5Rj0  K - POP 🌟 Trot hwangje Young Tak 최고의젠틀 Man 👨 펜...   \n",
       "3       ED9Vght5Rj0       욍대박나세요  ㆍ영탁님 목소리에 힘들어  도  찐으로💕💕💕💕💕👍👍👍 ㆍ즐겁습니다   \n",
       "4       ED9Vght5Rj0         두분의 캐미가 뮤비를 한층 고급지게 하네요. 신사답게  춤도 넘 매력적이에오   \n",
       "...             ...                                                ...   \n",
       "445979  iN2EgMckDZA                                   I love thissssss   \n",
       "445980  iN2EgMckDZA                Keep working, you have talent &lt;3   \n",
       "445981  iN2EgMckDZA  I just found this today omg and this is so goo...   \n",
       "445982  iN2EgMckDZA  Nasıl olur da her şarkısı muhteşem olur. Bayıl...   \n",
       "445983  iN2EgMckDZA  Why is everything ash island releases so good?!?!   \n",
       "\n",
       "                        comment_id          comment_time  \n",
       "0       UgxNyr3WUDuLsVjA7Bd4AaABAg  2022-07-10T03:09:21Z  \n",
       "1       UgyJNL2pChd5OxlBbGh4AaABAg  2022-07-06T07:30:41Z  \n",
       "2       Ugz_0wNdEX3Bx4fN1sx4AaABAg  2022-07-06T03:13:39Z  \n",
       "3       UgyGBev8ODvlqUYRuop4AaABAg  2022-07-05T15:37:33Z  \n",
       "4       Ugx7VNmpvtS9BLyQo3B4AaABAg  2022-07-05T05:10:40Z  \n",
       "...                            ...                   ...  \n",
       "445979  UgyfkIfWAQGAVR77O714AaABAg  2021-07-11T09:51:08Z  \n",
       "445980  UgznPhcuBtMSSVnj_4l4AaABAg  2021-07-11T09:51:02Z  \n",
       "445981  Ugy_Gb8iPyF-Qgu7SKt4AaABAg  2021-07-11T09:50:51Z  \n",
       "445982  Ugypi6pWAbh_PE1902t4AaABAg  2021-07-11T09:48:03Z  \n",
       "445983  UgzzpNAd4yhhIT-_6QB4AaABAg  2021-07-11T09:32:11Z  \n",
       "\n",
       "[445984 rows x 4 columns]"
      ]
     },
     "execution_count": 43,
     "metadata": {},
     "output_type": "execute_result"
    }
   ],
   "source": [
    "data = t_data.iloc[:,1:]\n",
    "data"
   ]
  },
  {
   "cell_type": "code",
   "execution_count": 44,
   "metadata": {},
   "outputs": [],
   "source": [
    "from datetime import datetime\n",
    "from time import strptime\n",
    "\n",
    "data['comment_time'] = data['comment_time'].apply(lambda x : datetime.strptime(x, '%Y-%m-%dT%H:%M:%SZ'))"
   ]
  },
  {
   "cell_type": "code",
   "execution_count": 52,
   "metadata": {},
   "outputs": [],
   "source": [
    "y = []\n",
    "m = []\n",
    "d = []\n",
    "h = []\n",
    "for item in data['comment_time']:\n",
    "    y.append(item.year)\n",
    "    m.append(item.month)\n",
    "    d.append(item.day)\n",
    "    h.append(item.hour)\n",
    "\n",
    "data['year'] = y\n",
    "data['month'] = m\n",
    "data['date'] =  d\n",
    "data['hour'] = h"
   ]
  },
  {
   "cell_type": "code",
   "execution_count": 62,
   "metadata": {},
   "outputs": [],
   "source": [
    "timeline = data.groupby(['month', 'date']).count().iloc[:,0]"
   ]
  },
  {
   "cell_type": "code",
   "execution_count": 67,
   "metadata": {},
   "outputs": [
    {
     "data": {
      "text/plain": [
       "[<matplotlib.lines.Line2D at 0x7f14d325fb20>]"
      ]
     },
     "execution_count": 67,
     "metadata": {},
     "output_type": "execute_result"
    },
    {
     "data": {
      "image/png": "[encoded data removed]",
      "text/plain": [
       "<Figure size 432x288 with 1 Axes>"
      ]
     },
     "metadata": {
      "needs_background": "light"
     },
     "output_type": "display_data"
    }
   ],
   "source": [
    "plt.plot(timeline.values)"
   ]
  },
  {
   "cell_type": "code",
   "execution_count": 69,
   "metadata": {},
   "outputs": [
    {
     "data": {
      "text/plain": [
       "[<matplotlib.lines.Line2D at 0x7f14d31e5730>]"
      ]
     },
     "execution_count": 69,
     "metadata": {},
     "output_type": "execute_result"
    },
    {
     "data": {
      "image/png": "[encoded data removed]",
      "text/plain": [
       "<Figure size 432x288 with 1 Axes>"
      ]
     },
     "metadata": {
      "needs_background": "light"
     },
     "output_type": "display_data"
    }
   ],
   "source": [
    "plt.plot(data['comment_time'])"
   ]
  },
  {
   "cell_type": "code",
   "execution_count": 15,
   "metadata": {},
   "outputs": [],
   "source": [
    "def like_int(data):\n",
    "    temp = []\n",
    "    for like in data:\n",
    "        unit = re.compile(\"[가-힇]+\").findall(like)\n",
    "        if unit == ['만']:\n",
    "            like = float(like.replace(unit[0], \"\"))\n",
    "            like *= 10000\n",
    "        elif unit == ['천']:\n",
    "            like = float(like.replace(unit[0], \"\"))\n",
    "            like *= 1000\n",
    "        else:\n",
    "            like = float(like)\n",
    "        \n",
    "        temp.append(like)\n",
    "            \n",
    "    return temp"
   ]
  },
  {
   "cell_type": "code",
   "execution_count": 16,
   "metadata": {},
   "outputs": [
    {
     "ename": "KeyError",
     "evalue": "'좋아요 개수'",
     "output_type": "error",
     "traceback": [
      "\u001b[0;31m---------------------------------------------------------------------------\u001b[0m",
      "\u001b[0;31mKeyError\u001b[0m                                  Traceback (most recent call last)",
      "File \u001b[0;32m~/.conda/envs/svmglee/lib/python3.8/site-packages/pandas/core/indexes/base.py:3621\u001b[0m, in \u001b[0;36mIndex.get_loc\u001b[0;34m(self, key, method, tolerance)\u001b[0m\n\u001b[1;32m   3620\u001b[0m \u001b[39mtry\u001b[39;00m:\n\u001b[0;32m-> 3621\u001b[0m     \u001b[39mreturn\u001b[39;00m \u001b[39mself\u001b[39;49m\u001b[39m.\u001b[39;49m_engine\u001b[39m.\u001b[39;49mget_loc(casted_key)\n\u001b[1;32m   3622\u001b[0m \u001b[39mexcept\u001b[39;00m \u001b[39mKeyError\u001b[39;00m \u001b[39mas\u001b[39;00m err:\n",
      "File \u001b[0;32m~/.conda/envs/svmglee/lib/python3.8/site-packages/pandas/_libs/index.pyx:136\u001b[0m, in \u001b[0;36mpandas._libs.index.IndexEngine.get_loc\u001b[0;34m()\u001b[0m\n",
      "File \u001b[0;32m~/.conda/envs/svmglee/lib/python3.8/site-packages/pandas/_libs/index.pyx:163\u001b[0m, in \u001b[0;36mpandas._libs.index.IndexEngine.get_loc\u001b[0;34m()\u001b[0m\n",
      "File \u001b[0;32mpandas/_libs/hashtable_class_helper.pxi:5198\u001b[0m, in \u001b[0;36mpandas._libs.hashtable.PyObjectHashTable.get_item\u001b[0;34m()\u001b[0m\n",
      "File \u001b[0;32mpandas/_libs/hashtable_class_helper.pxi:5206\u001b[0m, in \u001b[0;36mpandas._libs.hashtable.PyObjectHashTable.get_item\u001b[0;34m()\u001b[0m\n",
      "\u001b[0;31mKeyError\u001b[0m: '좋아요 개수'",
      "\nThe above exception was the direct cause of the following exception:\n",
      "\u001b[0;31mKeyError\u001b[0m                                  Traceback (most recent call last)",
      "\u001b[1;32m/home/mglee/VSCODE/git_folder/YouTubeComment/code/OneTheK_EDA.ipynb 셀 6\u001b[0m in \u001b[0;36m<cell line: 1>\u001b[0;34m()\u001b[0m\n\u001b[0;32m----> <a href='vscode-notebook-cell://ssh-remote%2B141.223.144.85/home/mglee/VSCODE/git_folder/YouTubeComment/code/OneTheK_EDA.ipynb#ch0000004vscode-remote?line=0'>1</a>\u001b[0m data[\u001b[39m'\u001b[39m\u001b[39m좋아요 개수\u001b[39m\u001b[39m'\u001b[39m] \u001b[39m=\u001b[39m like_int(data[\u001b[39m'\u001b[39;49m\u001b[39m좋아요 개수\u001b[39;49m\u001b[39m'\u001b[39;49m])\n",
      "File \u001b[0;32m~/.conda/envs/svmglee/lib/python3.8/site-packages/pandas/core/frame.py:3505\u001b[0m, in \u001b[0;36mDataFrame.__getitem__\u001b[0;34m(self, key)\u001b[0m\n\u001b[1;32m   3503\u001b[0m \u001b[39mif\u001b[39;00m \u001b[39mself\u001b[39m\u001b[39m.\u001b[39mcolumns\u001b[39m.\u001b[39mnlevels \u001b[39m>\u001b[39m \u001b[39m1\u001b[39m:\n\u001b[1;32m   3504\u001b[0m     \u001b[39mreturn\u001b[39;00m \u001b[39mself\u001b[39m\u001b[39m.\u001b[39m_getitem_multilevel(key)\n\u001b[0;32m-> 3505\u001b[0m indexer \u001b[39m=\u001b[39m \u001b[39mself\u001b[39;49m\u001b[39m.\u001b[39;49mcolumns\u001b[39m.\u001b[39;49mget_loc(key)\n\u001b[1;32m   3506\u001b[0m \u001b[39mif\u001b[39;00m is_integer(indexer):\n\u001b[1;32m   3507\u001b[0m     indexer \u001b[39m=\u001b[39m [indexer]\n",
      "File \u001b[0;32m~/.conda/envs/svmglee/lib/python3.8/site-packages/pandas/core/indexes/base.py:3623\u001b[0m, in \u001b[0;36mIndex.get_loc\u001b[0;34m(self, key, method, tolerance)\u001b[0m\n\u001b[1;32m   3621\u001b[0m     \u001b[39mreturn\u001b[39;00m \u001b[39mself\u001b[39m\u001b[39m.\u001b[39m_engine\u001b[39m.\u001b[39mget_loc(casted_key)\n\u001b[1;32m   3622\u001b[0m \u001b[39mexcept\u001b[39;00m \u001b[39mKeyError\u001b[39;00m \u001b[39mas\u001b[39;00m err:\n\u001b[0;32m-> 3623\u001b[0m     \u001b[39mraise\u001b[39;00m \u001b[39mKeyError\u001b[39;00m(key) \u001b[39mfrom\u001b[39;00m \u001b[39merr\u001b[39;00m\n\u001b[1;32m   3624\u001b[0m \u001b[39mexcept\u001b[39;00m \u001b[39mTypeError\u001b[39;00m:\n\u001b[1;32m   3625\u001b[0m     \u001b[39m# If we have a listlike key, _check_indexing_error will raise\u001b[39;00m\n\u001b[1;32m   3626\u001b[0m     \u001b[39m#  InvalidIndexError. Otherwise we fall through and re-raise\u001b[39;00m\n\u001b[1;32m   3627\u001b[0m     \u001b[39m#  the TypeError.\u001b[39;00m\n\u001b[1;32m   3628\u001b[0m     \u001b[39mself\u001b[39m\u001b[39m.\u001b[39m_check_indexing_error(key)\n",
      "\u001b[0;31mKeyError\u001b[0m: '좋아요 개수'"
     ]
    }
   ],
   "source": [
    "data['좋아요 개수'] = like_int(data['좋아요 개수'])"
   ]
  },
  {
   "cell_type": "code",
   "execution_count": 8,
   "metadata": {},
   "outputs": [
    {
     "data": {
      "text/plain": [
       "count      5125.000000\n",
       "mean       1355.303610\n",
       "std        8831.711938\n",
       "min           0.000000\n",
       "25%           1.000000\n",
       "50%           3.000000\n",
       "75%         165.000000\n",
       "max      320000.000000\n",
       "Name: 좋아요 개수, dtype: float64"
      ]
     },
     "execution_count": 8,
     "metadata": {},
     "output_type": "execute_result"
    }
   ],
   "source": [
    "data['좋아요 개수'].describe()"
   ]
  },
  {
   "cell_type": "code",
   "execution_count": 9,
   "metadata": {},
   "outputs": [
    {
     "data": {
      "text/plain": [
       "0.0         653\n",
       "1.0         793\n",
       "2.0         863\n",
       "3.0         380\n",
       "4.0         192\n",
       "           ... \n",
       "130000.0      2\n",
       "150000.0      1\n",
       "160000.0      1\n",
       "190000.0      1\n",
       "320000.0      1\n",
       "Name: 좋아요 개수, Length: 720, dtype: int64"
      ]
     },
     "execution_count": 9,
     "metadata": {},
     "output_type": "execute_result"
    }
   ],
   "source": [
    "data['좋아요 개수'].value_counts().sort_index()"
   ]
  },
  {
   "cell_type": "code",
   "execution_count": 10,
   "metadata": {},
   "outputs": [
    {
     "data": {
      "image/png": "[encoded data removed]",
      "text/plain": [
       "<Figure size 432x288 with 1 Axes>"
      ]
     },
     "metadata": {
      "needs_background": "light"
     },
     "output_type": "display_data"
    }
   ],
   "source": [
    "plt.plot(data['좋아요 개수'].value_counts().sort_index())\n",
    "plt.show()"
   ]
  },
  {
   "cell_type": "code",
   "execution_count": 11,
   "metadata": {},
   "outputs": [
    {
     "data": {
      "image/png": "[encoded data removed]",
      "text/plain": [
       "<Figure size 432x288 with 1 Axes>"
      ]
     },
     "metadata": {
      "needs_background": "light"
     },
     "output_type": "display_data"
    }
   ],
   "source": [
    "plt.plot(np.log(data['좋아요 개수'].value_counts().sort_index()))\n",
    "plt.show()"
   ]
  },
  {
   "cell_type": "code",
   "execution_count": 12,
   "metadata": {},
   "outputs": [
    {
     "data": {
      "image/png": "[encoded data removed]",
      "text/plain": [
       "<Figure size 432x288 with 1 Axes>"
      ]
     },
     "metadata": {
      "needs_background": "light"
     },
     "output_type": "display_data"
    }
   ],
   "source": [
    "plt.plot(data['좋아요 개수'].value_counts().sort_index()[10:])\n",
    "plt.show()"
   ]
  }
 ],
 "metadata": {
  "kernelspec": {
   "display_name": "Python 3.8.12 ('svmglee')",
   "language": "python",
   "name": "python3"
  },
  "language_info": {
   "codemirror_mode": {
    "name": "ipython",
    "version": 3
   },
   "file_extension": ".py",
   "mimetype": "text/x-python",
   "name": "python",
   "nbconvert_exporter": "python",
   "pygments_lexer": "ipython3",
   "version": "3.8.12"
  },
  "orig_nbformat": 4,
  "vscode": {
   "interpreter": {
    "hash": "c6f34507fa43ba317958b721fa8398d2051b96ef3f3b32ff98429c26ce06f8cf"
   }
  }
 },
 "nbformat": 4,
 "nbformat_minor": 2
}
