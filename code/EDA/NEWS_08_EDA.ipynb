{
 "cells": [
  {
   "cell_type": "code",
   "execution_count": 1,
   "metadata": {},
   "outputs": [],
   "source": [
    "import pandas as pd"
   ]
  },
  {
   "cell_type": "code",
   "execution_count": 2,
   "metadata": {},
   "outputs": [],
   "source": [
    "df1 = pd.read_pickle(\"/home/mglee/VSCODE/git_folder/YouTubeComment/data/NEWS/NEWS_test0801_0810.pkl\")\n",
    "df2 = pd.read_pickle(\"/home/mglee/VSCODE/git_folder/YouTubeComment/data/NEWS/NEWS_test0810_0820.pkl\")\n",
    "df3 = pd.read_pickle(\"/home/mglee/VSCODE/git_folder/YouTubeComment/data/NEWS/NEWS_test0820_0825.pkl\")\n",
    "df4 = pd.read_pickle(\"/home/mglee/VSCODE/git_folder/YouTubeComment/data/NEWS/NEWS_test0825_0831.pkl\")"
   ]
  },
  {
   "cell_type": "code",
   "execution_count": 8,
   "metadata": {},
   "outputs": [],
   "source": [
    "df = pd.concat([df1, df2, df3, df4])"
   ]
  },
  {
   "cell_type": "code",
   "execution_count": 15,
   "metadata": {},
   "outputs": [],
   "source": [
    "df_use = df.dropna()"
   ]
  },
  {
   "cell_type": "code",
   "execution_count": 19,
   "metadata": {},
   "outputs": [],
   "source": [
    "df_use = df_use.reset_index(drop = True)"
   ]
  },
  {
   "cell_type": "code",
   "execution_count": 23,
   "metadata": {},
   "outputs": [
    {
     "data": {
      "text/plain": [
       "author\n",
       "2025년의한국     1\n",
       "사냥꾼의꿈        1\n",
       "샴푸           1\n",
       "선희안          1\n",
       "센쏘           1\n",
       "            ..\n",
       "김선민          2\n",
       "박상영          3\n",
       "풍문으로 들었어     3\n",
       "까마           3\n",
       "ONNURI. K    3\n",
       "Length: 179, dtype: int64"
      ]
     },
     "execution_count": 23,
     "metadata": {},
     "output_type": "execute_result"
    }
   ],
   "source": [
    "df_use.groupby('author').size().sort_values()"
   ]
  }
 ],
 "metadata": {
  "kernelspec": {
   "display_name": "Python 3.8.12 ('svmglee')",
   "language": "python",
   "name": "python3"
  },
  "language_info": {
   "codemirror_mode": {
    "name": "ipython",
    "version": 3
   },
   "file_extension": ".py",
   "mimetype": "text/x-python",
   "name": "python",
   "nbconvert_exporter": "python",
   "pygments_lexer": "ipython3",
   "version": "3.8.12"
  },
  "orig_nbformat": 4,
  "vscode": {
   "interpreter": {
    "hash": "f75aeab59ff03ee2e291b4684758ee4ba4238bacc5beaacd4e7ff7cc7ef03731"
   }
  }
 },
 "nbformat": 4,
 "nbformat_minor": 2
}
