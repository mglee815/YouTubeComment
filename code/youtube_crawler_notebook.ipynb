{
 "cells": [
  {
   "cell_type": "code",
   "execution_count": 3,
   "metadata": {},
   "outputs": [],
   "source": [
    "from dataclasses import dataclass\n",
    "import pandas as pd\n",
    "import time\n",
    "from tqdm.auto import tqdm\n",
    "from selenium.webdriver import Chrome\n",
    "from selenium.webdriver.common.by import By\n",
    "from selenium.webdriver.common.keys import Keys\n",
    "from selenium.webdriver.support.ui import WebDriverWait\n",
    "from selenium.webdriver.support import expected_conditions as EC\n",
    "from datetime import datetime"
   ]
  },
  {
   "cell_type": "code",
   "execution_count": 12,
   "metadata": {},
   "outputs": [],
   "source": [
    "# 크롤링 전 세팅\n",
    "chrome_driver_path = r'./chromedriver'"
   ]
  },
  {
   "cell_type": "code",
   "execution_count": 18,
   "metadata": {},
   "outputs": [],
   "source": [
    "# 방탄 다이너마이트 'https://www.youtube.com/watch?v=gdZLi9oWNZg'\n",
    "# 지은 블루밍 'https://www.youtube.com/watch?v=D1PvIWdJ8xo'\n",
    "\n",
    "\n",
    "url_path = 'https://www.youtube.com/watch?v=gdZLi9oWNZg'\n",
    "\n",
    "\n"
   ]
  },
  {
   "cell_type": "code",
   "execution_count": 17,
   "metadata": {},
   "outputs": [],
   "source": [
    "# 크롤링 반복 횟수\n",
    "repeat = 1000\n",
    "\n",
    "# 댓글 작성자\n",
    "commenter_lst = []\n",
    "# 댓글\n",
    "comment_lst=[]\n",
    "# 좋아요 개수\n",
    "like_count_lst = []\n",
    "# 크리에이터 하트 여부\n",
    "heart_exist_lst = []"
   ]
  },
  {
   "cell_type": "code",
   "execution_count": 19,
   "metadata": {},
   "outputs": [
    {
     "name": "stdout",
     "output_type": "stream",
     "text": [
      "7_21_14_=================\n",
      " At 1658382015.43964 START\n"
     ]
    }
   ],
   "source": [
    "RUN_DATE = str(datetime.today().month) + \"_\" + str(datetime.today().day) + \"_\" + str(datetime.today().hour)\n",
    "START_TIME = time.time()\n",
    "\n",
    "print(f\"{RUN_DATE}_=================\\n At {START_TIME} START\")\n",
    "\n"
   ]
  },
  {
   "cell_type": "code",
   "execution_count": 20,
   "metadata": {},
   "outputs": [
    {
     "name": "stderr",
     "output_type": "stream",
     "text": [
      "/var/folders/ks/zdzpzdss37j5m0f27_d5d7qh0000gn/T/ipykernel_81542/3685085915.py:1: DeprecationWarning: executable_path has been deprecated, please pass in a Service object\n",
      "  with Chrome(executable_path = chrome_driver_path) as driver:\n",
      "/var/folders/ks/zdzpzdss37j5m0f27_d5d7qh0000gn/T/ipykernel_81542/3685085915.py:10: DeprecationWarning: find_element_by_class_name is deprecated. Please use find_element(by=By.CLASS_NAME, value=name) instead\n",
      "  if driver.find_element_by_class_name(\"ytp-play-button\").get_attribute('aria-label') == '일시중지(k)':\n",
      "/var/folders/ks/zdzpzdss37j5m0f27_d5d7qh0000gn/T/ipykernel_81542/3685085915.py:11: DeprecationWarning: find_element_by_class_name is deprecated. Please use find_element(by=By.CLASS_NAME, value=name) instead\n",
      "  driver.find_element_by_class_name(\"ytp-play-button\").click()\n",
      "100%|██████████| 1000/1000 [53:38<00:00,  3.22s/it] \n",
      "100%|██████████| 5125/5125 [12:40<00:00,  6.74it/s]\n",
      "100%|██████████| 5125/5125 [13:18<00:00,  6.42it/s]\n",
      "100%|██████████| 5125/5125 [13:03<00:00,  6.54it/s]\n"
     ]
    },
    {
     "name": "stdout",
     "output_type": "stream",
     "text": [
      "It Takes 5588.072368860245 sec\n",
      "done\n"
     ]
    }
   ],
   "source": [
    "\n",
    "with Chrome(executable_path = chrome_driver_path) as driver:\n",
    "    # 찾으려는 대상이 불러올 때까지 지정된 시간만큼 대기하도록 설정한다.\n",
    "    # 인자는 초(second) 단위이며, Default 값은 0초이다. \n",
    "    wait = WebDriverWait(driver, 20)\n",
    "    driver.get(url_path) # 영상 url\n",
    "    time.sleep(3)\n",
    "    \n",
    "    # 유튜브 실행 시 자동 영상 재생일 경우, 영상 종료되면 바로 다음 영상으로 넘어가게 된다.\n",
    "    # 이를 방지하기 위해, 유튜브 영상 중지 후 크롤링 진행\n",
    "    if driver.find_element_by_class_name(\"ytp-play-button\").get_attribute('aria-label') == '일시중지(k)':\n",
    "        driver.find_element_by_class_name(\"ytp-play-button\").click()\n",
    "    else:\n",
    "        pass\n",
    "    \n",
    "    # 최초 1회 PAGE_DOWN\n",
    "    wait.until(EC.visibility_of_element_located((By.TAG_NAME, \"body\"))).send_keys(Keys.PAGE_DOWN)\n",
    "    time.sleep(3)\n",
    "\n",
    "    # END 반복 실행\n",
    "    # 실행 횟수 체크\n",
    "    for item in tqdm(range(repeat)): # END버튼 반복 횟수, 1회당 20개씩 댓글 업데이트 \n",
    "        wait.until(EC.visibility_of_element_located((By.TAG_NAME, \"body\"))).send_keys(Keys.END)\n",
    "        time.sleep(3) # END버튼 클릭 이후, 5초 대기 후, 다시 END 버튼 진행\n",
    "                \n",
    "    # 크롤링 데이터 수집 진행\n",
    "\n",
    "    # 작성자 가져오기\n",
    "    # 댓글 작성자 중 확인된 사용자, 공식 아티스트 채널 값은 text로 가져올 시, (공백) 처리됨\n",
    "    try:\n",
    "        for commenter in tqdm(wait.until(EC.presence_of_all_elements_located((By.CSS_SELECTOR, '#author-text')))):\n",
    "            # 작성자 이름 없는 경우에, 공백 표시\n",
    "            # 확인된 사용자, 공식 아티스트 채널의 경우, innertext를 가져옴\n",
    "            if commenter.text != '':\n",
    "                commenter_lst.append(commenter.text)\n",
    "            else:\n",
    "                commenter_temp = commenter.get_attribute(\"innerText\").strip().replace('\\n', '')\n",
    "                commenter_lst.append(commenter_temp)                \n",
    "    except:\n",
    "        # 크롤링 값이 없을 경우에\n",
    "        commenter_lst.append('')\n",
    "\n",
    "    # 댓글 가져오기    \n",
    "    try:\n",
    "        for comment in tqdm(wait.until(EC.presence_of_all_elements_located((By.CSS_SELECTOR, '#content-text')))):\n",
    "            if comment.text != '':\n",
    "                comment_temp = comment.text.replace('\\n', ' ')\n",
    "                comment_lst.append(comment_temp)\n",
    "            else:\n",
    "                comment_lst.append(' ')            \n",
    "    except:\n",
    "        # 크롤링 값이 없을 경우에\n",
    "        comment_lst.append('')\n",
    "                \n",
    "    # 좋아요 개수 가져오기\n",
    "    try:\n",
    "        for like_count in tqdm(wait.until(EC.presence_of_all_elements_located((By.CSS_SELECTOR, '#vote-count-middle')))):\n",
    "            if like_count.text != '':\n",
    "                like_count_lst.append(like_count.text)\n",
    "            else:\n",
    "                like_count_lst.append('0')\n",
    "    except:\n",
    "        # 좋아요 개수가 없을 경우에\n",
    "        like_count_lst.append('0')\n",
    "        \n",
    "    # # 크리에이터 하트 여부 체크하기\n",
    "    # for creater_heart in tqdm(wait.until(EC.presence_of_all_elements_located((By.CSS_SELECTOR, '#creator-heart')))):\n",
    "    #     # 크리에이터 하트 html 존재 여부로 체크\n",
    "    #     try:\n",
    "    #         if creater_heart.find_element_by_css_selector('#creator-heart-button'):\n",
    "    #             heart_exist_lst.append('하트')\n",
    "    #         else:\n",
    "    #             heart_exist_lst.append('없음')\n",
    "    #     except:\n",
    "    #         # 크롤링 값이 없을 경우에\n",
    "    #         heart_exist_lst.append('없음')           \n",
    "     \n",
    "     \n",
    "print(f\"It Takes {time.time() - START_TIME} sec\")   \n",
    "print('done')\n",
    "\n"
   ]
  },
  {
   "cell_type": "code",
   "execution_count": 23,
   "metadata": {},
   "outputs": [
    {
     "name": "stdout",
     "output_type": "stream",
     "text": [
      "save done\n"
     ]
    }
   ],
   "source": [
    "\n",
    "# 저장 위치\n",
    "save_path = r'./result/'\n",
    "\n",
    "df = pd.DataFrame({'댓글 작성자' : commenter_lst,\n",
    "                   '댓글' : comment_lst,\n",
    "                   '좋아요 개수' : like_count_lst\n",
    "                   })\n",
    "\n",
    "# 인덱스 1부터 실행\n",
    "df.index = df.index+1\n",
    "\n",
    "# to_csv 저장\n",
    "df.to_csv(save_path + 'Dynamite_YouTube_' + str(len(comment_lst)) + 'Comment_' + '_' + RUN_DATE + '.csv' , encoding='utf-8-sig')\n",
    "print('save done')"
   ]
  }
 ],
 "metadata": {
  "kernelspec": {
   "display_name": "Python 3.8.12 ('svmglee')",
   "language": "python",
   "name": "python3"
  },
  "language_info": {
   "codemirror_mode": {
    "name": "ipython",
    "version": 3
   },
   "file_extension": ".py",
   "mimetype": "text/x-python",
   "name": "python",
   "nbconvert_exporter": "python",
   "pygments_lexer": "ipython3",
   "version": "3.8.12"
  },
  "orig_nbformat": 4,
  "vscode": {
   "interpreter": {
    "hash": "c6f34507fa43ba317958b721fa8398d2051b96ef3f3b32ff98429c26ce06f8cf"
   }
  }
 },
 "nbformat": 4,
 "nbformat_minor": 2
}
