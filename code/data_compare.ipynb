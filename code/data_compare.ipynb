{
 "cells": [
  {
   "cell_type": "code",
   "execution_count": 1,
   "metadata": {},
   "outputs": [],
   "source": [
    "import pandas as pd"
   ]
  },
  {
   "cell_type": "code",
   "execution_count": 2,
   "metadata": {},
   "outputs": [],
   "source": [
    "naver_df = pd.read_csv(\"../data/NEWS/naver/naver_KBS_comments_2022.csv\")"
   ]
  },
  {
   "cell_type": "code",
   "execution_count": 3,
   "metadata": {},
   "outputs": [],
   "source": [
    "naver_df.reset_index(drop = True, inplace = True)"
   ]
  },
  {
   "cell_type": "code",
   "execution_count": 4,
   "metadata": {},
   "outputs": [],
   "source": [
    "youtube_df = pd.read_pickle(\"../data/NEWS/KBS/KBS_0101_0831.pkl\")"
   ]
  },
  {
   "cell_type": "code",
   "execution_count": 5,
   "metadata": {},
   "outputs": [
    {
     "data": {
      "text/plain": [
       "vtitle\n",
       "104일 만의 검찰총장 지명…‘친윤·안정’ 택했다             1\n",
       "10년 끈 ‘론스타·대한민국 분쟁’ 밤사이 결론              1\n",
       "119특별구급대가 병원 간 이송까지…“환자 이송 지체 불 보듯”     2\n",
       "120명에게 14억 원 가로챈 ‘보이스피싱 총책’ 강제송환        5\n",
       "130년 만에 빛 본 고종 저고리…‘한복’ 위상 미국서 알린다     15\n",
       "                                       ..\n",
       "흐릿한 번호판 잡는 ‘매의 눈’…AI시스템 경찰 현장에          2\n",
       "흑해 곡물 반출 합의 유지…우크라 “이르면 주중 수출”          3\n",
       "흑해 곡물 수출 타결, 식량난 다소 ‘숨통’… 변수 남아         1\n",
       "흥행 돌풍 ‘한산’, 거북선·학익진 고증은?               29\n",
       "희망버스 비정규직 노조 지지…1독 작업 재개                1\n",
       "Length: 1534, dtype: int64"
      ]
     },
     "execution_count": 5,
     "metadata": {},
     "output_type": "execute_result"
    }
   ],
   "source": [
    "naver_df.groupby('vtitle').size()"
   ]
  },
  {
   "cell_type": "code",
   "execution_count": 22,
   "metadata": {},
   "outputs": [],
   "source": [
    "import re\n",
    "def title_match(query):\n",
    "    query = query.replace(\"&quot;\", \"\")\n",
    "    query = re.sub(' */ KBS.*', '',query)\n",
    "    query = re.sub('.{3}[0-9]{4}년.*', '',query)\n",
    "    query = re.sub('/[0-9]{1}.*/KBS', '',query)\n",
    "    return query"
   ]
  },
  {
   "cell_type": "code",
   "execution_count": 23,
   "metadata": {},
   "outputs": [],
   "source": [
    "youtube_df['video_title'] = youtube_df['video_title'].apply(lambda x : title_match(x))"
   ]
  },
  {
   "cell_type": "code",
   "execution_count": 71,
   "metadata": {},
   "outputs": [],
   "source": [
    "naver_vid = naver_df[['vid', 'vtitle', 'category']].drop_duplicates()"
   ]
  },
  {
   "cell_type": "code",
   "execution_count": 72,
   "metadata": {},
   "outputs": [],
   "source": [
    "youtube_vid = youtube_df[['video_id']].drop_duplicates()"
   ]
  },
  {
   "cell_type": "code",
   "execution_count": 73,
   "metadata": {},
   "outputs": [],
   "source": [
    "youtube_vid.reset_index(drop = True, inplace= True)\n",
    "naver_vid.reset_index(drop = True, inplace= True)"
   ]
  },
  {
   "cell_type": "code",
   "execution_count": 75,
   "metadata": {},
   "outputs": [],
   "source": [
    "from unicodedata import category\n",
    "\n",
    "\n",
    "vid_dict = {}\n",
    "category_dict = {}\n",
    "\n",
    "\n",
    "for i, j, k in naver_vid.values:\n",
    "    vid_dict[i] = j\n",
    "    category_dict[i] = k\n"
   ]
  },
  {
   "cell_type": "code",
   "execution_count": 76,
   "metadata": {},
   "outputs": [],
   "source": [
    "both_titles = set(youtube_vid['video_id']) & set(naver_vid['vid'])"
   ]
  },
  {
   "cell_type": "code",
   "execution_count": 77,
   "metadata": {},
   "outputs": [
    {
     "data": {
      "text/plain": [
       "1863"
      ]
     },
     "execution_count": 77,
     "metadata": {},
     "output_type": "execute_result"
    }
   ],
   "source": [
    "len(both_titles)"
   ]
  },
  {
   "cell_type": "code",
   "execution_count": 29,
   "metadata": {},
   "outputs": [
    {
     "data": {
      "text/html": [
       "<div>\n",
       "<style scoped>\n",
       "    .dataframe tbody tr th:only-of-type {\n",
       "        vertical-align: middle;\n",
       "    }\n",
       "\n",
       "    .dataframe tbody tr th {\n",
       "        vertical-align: top;\n",
       "    }\n",
       "\n",
       "    .dataframe thead th {\n",
       "        text-align: right;\n",
       "    }\n",
       "</style>\n",
       "<table border=\"1\" class=\"dataframe\">\n",
       "  <thead>\n",
       "    <tr style=\"text-align: right;\">\n",
       "      <th></th>\n",
       "      <th>video_id</th>\n",
       "      <th>time</th>\n",
       "      <th>channel_id</th>\n",
       "      <th>video_title</th>\n",
       "      <th>video_description</th>\n",
       "      <th>channel_title</th>\n",
       "      <th>view</th>\n",
       "      <th>like</th>\n",
       "      <th>commentcnt</th>\n",
       "      <th>cap</th>\n",
       "      <th>...</th>\n",
       "      <th>comment_id</th>\n",
       "      <th>re_reply</th>\n",
       "      <th>comment_time</th>\n",
       "      <th>author</th>\n",
       "      <th>c_like</th>\n",
       "      <th>ori_rep</th>\n",
       "      <th>captiontext</th>\n",
       "      <th>ori_rep_list</th>\n",
       "      <th>year</th>\n",
       "      <th>ymd</th>\n",
       "    </tr>\n",
       "  </thead>\n",
       "  <tbody>\n",
       "    <tr>\n",
       "      <th>0</th>\n",
       "      <td>5imqfqo6jtI</td>\n",
       "      <td>2022-01-01T21:22:43Z</td>\n",
       "      <td>UCcQTRi69dsVYHN3exePtZ1A</td>\n",
       "      <td>오미크론 한달 만에 1천 명대…숨은 감염 확산하며 다음달 안에 우세종 / KBS  ...</td>\n",
       "      <td>[앵커]\\n\\n 새해부터 오미크론 변이 확산세가  심상치 않습니다.\\n\\n 국내에서...</td>\n",
       "      <td>KBS News</td>\n",
       "      <td>3629</td>\n",
       "      <td>14</td>\n",
       "      <td>12</td>\n",
       "      <td>cap</td>\n",
       "      <td>...</td>\n",
       "      <td>UgzuhgNgfT6l29nDgwF4AaABAg</td>\n",
       "      <td>0.0</td>\n",
       "      <td>2022-01-03T10:08:48Z</td>\n",
       "      <td>김 영</td>\n",
       "      <td>1.0</td>\n",
       "      <td>Parent</td>\n",
       "      <td>새해부터 오미크론 변이 확산세가 심상치않습니다.국내에서 처음 오미크론 사례가 확인된...</td>\n",
       "      <td>NaN</td>\n",
       "      <td>2022</td>\n",
       "      <td>2022-01-01</td>\n",
       "    </tr>\n",
       "    <tr>\n",
       "      <th>1</th>\n",
       "      <td>45kVesI8mLw</td>\n",
       "      <td>2022-01-01T03:26:19Z</td>\n",
       "      <td>UCcQTRi69dsVYHN3exePtZ1A</td>\n",
       "      <td>WHO 사무총장, '올해 코로나 종식 낙관론' 피력 / KBS  2022.01.01.</td>\n",
       "      <td>세계보건기구 WHO 사무총장이 올해 말  코로나19가 종식될 수 있다는 낙관적 입장...</td>\n",
       "      <td>KBS News</td>\n",
       "      <td>31788</td>\n",
       "      <td>251</td>\n",
       "      <td>268</td>\n",
       "      <td>cap</td>\n",
       "      <td>...</td>\n",
       "      <td>Ugw6ihJVxQorenSMq_Z4AaABAg</td>\n",
       "      <td>0.0</td>\n",
       "      <td>2022-01-01T03:39:51Z</td>\n",
       "      <td>chavandposh</td>\n",
       "      <td>3.0</td>\n",
       "      <td>Parent</td>\n",
       "      <td>세계보건기구 WHO 사무총장이 올해 말코로나19가 종식될 수 있다는 낙관적 입장을밝...</td>\n",
       "      <td>NaN</td>\n",
       "      <td>2022</td>\n",
       "      <td>2022-01-01</td>\n",
       "    </tr>\n",
       "  </tbody>\n",
       "</table>\n",
       "<p>2 rows × 21 columns</p>\n",
       "</div>"
      ],
      "text/plain": [
       "      video_id                  time                channel_id  \\\n",
       "0  5imqfqo6jtI  2022-01-01T21:22:43Z  UCcQTRi69dsVYHN3exePtZ1A   \n",
       "1  45kVesI8mLw  2022-01-01T03:26:19Z  UCcQTRi69dsVYHN3exePtZ1A   \n",
       "\n",
       "                                         video_title  \\\n",
       "0  오미크론 한달 만에 1천 명대…숨은 감염 확산하며 다음달 안에 우세종 / KBS  ...   \n",
       "1    WHO 사무총장, '올해 코로나 종식 낙관론' 피력 / KBS  2022.01.01.   \n",
       "\n",
       "                                   video_description channel_title   view  \\\n",
       "0  [앵커]\\n\\n 새해부터 오미크론 변이 확산세가  심상치 않습니다.\\n\\n 국내에서...      KBS News   3629   \n",
       "1  세계보건기구 WHO 사무총장이 올해 말  코로나19가 종식될 수 있다는 낙관적 입장...      KBS News  31788   \n",
       "\n",
       "  like commentcnt  cap  ...                  comment_id re_reply  \\\n",
       "0   14         12  cap  ...  UgzuhgNgfT6l29nDgwF4AaABAg      0.0   \n",
       "1  251        268  cap  ...  Ugw6ihJVxQorenSMq_Z4AaABAg      0.0   \n",
       "\n",
       "           comment_time       author c_like ori_rep  \\\n",
       "0  2022-01-03T10:08:48Z          김 영    1.0  Parent   \n",
       "1  2022-01-01T03:39:51Z  chavandposh    3.0  Parent   \n",
       "\n",
       "                                         captiontext ori_rep_list  year  \\\n",
       "0  새해부터 오미크론 변이 확산세가 심상치않습니다.국내에서 처음 오미크론 사례가 확인된...          NaN  2022   \n",
       "1  세계보건기구 WHO 사무총장이 올해 말코로나19가 종식될 수 있다는 낙관적 입장을밝...          NaN  2022   \n",
       "\n",
       "          ymd  \n",
       "0  2022-01-01  \n",
       "1  2022-01-01  \n",
       "\n",
       "[2 rows x 21 columns]"
      ]
     },
     "execution_count": 29,
     "metadata": {},
     "output_type": "execute_result"
    }
   ],
   "source": [
    "youtube_df.head(2)"
   ]
  },
  {
   "cell_type": "code",
   "execution_count": 30,
   "metadata": {},
   "outputs": [],
   "source": [
    "you_use = youtube_df[\n",
    "    ['video_id', 'time', 'video_title', 'view', 'like', 'commentcnt', \n",
    "    'comment', 'comment_id', 're_reply', 'comment_time', 'author', 'c_like', 'ori_rep']\n",
    "]"
   ]
  },
  {
   "cell_type": "code",
   "execution_count": 31,
   "metadata": {},
   "outputs": [],
   "source": [
    "you_use.columns = ['vid', 'vtime', 'vtitle', 'view', 'vlike', 'ccnt', 'comment', 'cid', 'reply', 'ctime', 'author', 'clike', 'parent']"
   ]
  },
  {
   "cell_type": "code",
   "execution_count": 32,
   "metadata": {},
   "outputs": [
    {
     "data": {
      "text/html": [
       "<div>\n",
       "<style scoped>\n",
       "    .dataframe tbody tr th:only-of-type {\n",
       "        vertical-align: middle;\n",
       "    }\n",
       "\n",
       "    .dataframe tbody tr th {\n",
       "        vertical-align: top;\n",
       "    }\n",
       "\n",
       "    .dataframe thead th {\n",
       "        text-align: right;\n",
       "    }\n",
       "</style>\n",
       "<table border=\"1\" class=\"dataframe\">\n",
       "  <thead>\n",
       "    <tr style=\"text-align: right;\">\n",
       "      <th></th>\n",
       "      <th>Unnamed: 0</th>\n",
       "      <th>author</th>\n",
       "      <th>comment</th>\n",
       "      <th>ctime</th>\n",
       "      <th>like</th>\n",
       "      <th>reply</th>\n",
       "      <th>parent</th>\n",
       "      <th>vtitle</th>\n",
       "      <th>vtime</th>\n",
       "      <th>category</th>\n",
       "      <th>vid</th>\n",
       "    </tr>\n",
       "  </thead>\n",
       "  <tbody>\n",
       "    <tr>\n",
       "      <th>0</th>\n",
       "      <td>0</td>\n",
       "      <td>fndk****</td>\n",
       "      <td>deleted</td>\n",
       "      <td>2022.01.02. 11:34</td>\n",
       "      <td>-1</td>\n",
       "      <td>-1</td>\n",
       "      <td>-1</td>\n",
       "      <td>오미크론 한달 만에 1천 명대…숨은 감염 확산하며 다음달 안에 우세종</td>\n",
       "      <td>2022.01.02. 오전 6:05</td>\n",
       "      <td>사회</td>\n",
       "      <td>5imqfqo6jtI</td>\n",
       "    </tr>\n",
       "    <tr>\n",
       "      <th>1</th>\n",
       "      <td>1</td>\n",
       "      <td>오미크론은 감기수준인ㄷ 문재인은 대선 투표조작을 위해 오미크론을 핑계로 사전투표를 ...</td>\n",
       "      <td>jsw8****</td>\n",
       "      <td>2022.01.03. 09:42</td>\n",
       "      <td>0</td>\n",
       "      <td>0</td>\n",
       "      <td>parent</td>\n",
       "      <td>오미크론 한달 만에 1천 명대…숨은 감염 확산하며 다음달 안에 우세종</td>\n",
       "      <td>2022.01.02. 오전 6:05</td>\n",
       "      <td>사회</td>\n",
       "      <td>5imqfqo6jtI</td>\n",
       "    </tr>\n",
       "  </tbody>\n",
       "</table>\n",
       "</div>"
      ],
      "text/plain": [
       "   Unnamed: 0                                             author   comment  \\\n",
       "0           0                                           fndk****   deleted   \n",
       "1           1  오미크론은 감기수준인ㄷ 문재인은 대선 투표조작을 위해 오미크론을 핑계로 사전투표를 ...  jsw8****   \n",
       "\n",
       "               ctime  like  reply  parent  \\\n",
       "0  2022.01.02. 11:34    -1     -1      -1   \n",
       "1  2022.01.03. 09:42     0      0  parent   \n",
       "\n",
       "                                   vtitle                vtime category  \\\n",
       "0  오미크론 한달 만에 1천 명대…숨은 감염 확산하며 다음달 안에 우세종  2022.01.02. 오전 6:05       사회   \n",
       "1  오미크론 한달 만에 1천 명대…숨은 감염 확산하며 다음달 안에 우세종  2022.01.02. 오전 6:05       사회   \n",
       "\n",
       "           vid  \n",
       "0  5imqfqo6jtI  \n",
       "1  5imqfqo6jtI  "
      ]
     },
     "execution_count": 32,
     "metadata": {},
     "output_type": "execute_result"
    }
   ],
   "source": [
    "naver_df.head(2)"
   ]
  },
  {
   "cell_type": "code",
   "execution_count": 33,
   "metadata": {},
   "outputs": [],
   "source": [
    "nav_use = naver_df[\n",
    "    ['vid', 'vtime', 'vtitle', 'comment', 'reply', 'ctime', 'author', 'like', 'parent', 'category']\n",
    "]"
   ]
  },
  {
   "cell_type": "code",
   "execution_count": 34,
   "metadata": {},
   "outputs": [],
   "source": [
    "nav_use.columns = ['vid', 'vtime', 'vtitle', 'comment', 'reply', 'ctime', 'author', 'clike', 'parent', 'category']"
   ]
  },
  {
   "cell_type": "code",
   "execution_count": 35,
   "metadata": {},
   "outputs": [],
   "source": [
    "def both_video_filter(x, both_titles):\n",
    "    if x['vid'] in both_titles:\n",
    "        return True\n",
    "    else:\n",
    "        return False"
   ]
  },
  {
   "cell_type": "code",
   "execution_count": 36,
   "metadata": {},
   "outputs": [],
   "source": [
    "both_titles = list(both_titles)"
   ]
  },
  {
   "cell_type": "code",
   "execution_count": 37,
   "metadata": {},
   "outputs": [],
   "source": [
    "temp = []\n",
    "\n",
    "for i in range(nav_use.shape[0]):\n",
    "    if both_video_filter(nav_use.iloc[i], both_titles):\n",
    "        temp.append(nav_use.iloc[i].copy())\n",
    "\n",
    "naver_filtered = pd.DataFrame(temp)"
   ]
  },
  {
   "cell_type": "code",
   "execution_count": 38,
   "metadata": {},
   "outputs": [],
   "source": [
    "temp = []\n",
    "\n",
    "for i in range(you_use.shape[0]):\n",
    "    if both_video_filter(you_use.iloc[i], both_titles):\n",
    "        temp.append(you_use.iloc[i].copy())\n",
    "\n",
    "youtube_filtered = pd.DataFrame(temp)"
   ]
  },
  {
   "cell_type": "code",
   "execution_count": 39,
   "metadata": {},
   "outputs": [
    {
     "name": "stdout",
     "output_type": "stream",
     "text": [
      "(14031, 10)\n",
      "(370317, 13)\n"
     ]
    }
   ],
   "source": [
    "print(naver_filtered.shape)\n",
    "print(youtube_filtered.shape)"
   ]
  },
  {
   "cell_type": "code",
   "execution_count": 40,
   "metadata": {},
   "outputs": [
    {
     "data": {
      "text/html": [
       "<div>\n",
       "<style scoped>\n",
       "    .dataframe tbody tr th:only-of-type {\n",
       "        vertical-align: middle;\n",
       "    }\n",
       "\n",
       "    .dataframe tbody tr th {\n",
       "        vertical-align: top;\n",
       "    }\n",
       "\n",
       "    .dataframe thead th {\n",
       "        text-align: right;\n",
       "    }\n",
       "</style>\n",
       "<table border=\"1\" class=\"dataframe\">\n",
       "  <thead>\n",
       "    <tr style=\"text-align: right;\">\n",
       "      <th></th>\n",
       "      <th>vid</th>\n",
       "      <th>vtime</th>\n",
       "      <th>vtitle</th>\n",
       "      <th>view</th>\n",
       "      <th>vlike</th>\n",
       "      <th>ccnt</th>\n",
       "      <th>comment</th>\n",
       "      <th>cid</th>\n",
       "      <th>reply</th>\n",
       "      <th>ctime</th>\n",
       "      <th>author</th>\n",
       "      <th>clike</th>\n",
       "      <th>parent</th>\n",
       "    </tr>\n",
       "  </thead>\n",
       "  <tbody>\n",
       "    <tr>\n",
       "      <th>0</th>\n",
       "      <td>5imqfqo6jtI</td>\n",
       "      <td>2022-01-01T21:22:43Z</td>\n",
       "      <td>오미크론 한달 만에 1천 명대…숨은 감염 확산하며 다음달 안에 우세종 / KBS  ...</td>\n",
       "      <td>3629</td>\n",
       "      <td>14</td>\n",
       "      <td>12</td>\n",
       "      <td>결론은 뭔지아세요..? 코로나저거 걸려도 증상도 별로 없어서 내가 걸렸는지도 모르고...</td>\n",
       "      <td>UgzuhgNgfT6l29nDgwF4AaABAg</td>\n",
       "      <td>0.0</td>\n",
       "      <td>2022-01-03T10:08:48Z</td>\n",
       "      <td>김 영</td>\n",
       "      <td>1.0</td>\n",
       "      <td>Parent</td>\n",
       "    </tr>\n",
       "    <tr>\n",
       "      <th>1</th>\n",
       "      <td>45kVesI8mLw</td>\n",
       "      <td>2022-01-01T03:26:19Z</td>\n",
       "      <td>WHO 사무총장, '올해 코로나 종식 낙관론' 피력 / KBS  2022.01.01.</td>\n",
       "      <td>31788</td>\n",
       "      <td>251</td>\n",
       "      <td>268</td>\n",
       "      <td>안믿어 안믿어.</td>\n",
       "      <td>Ugw6ihJVxQorenSMq_Z4AaABAg</td>\n",
       "      <td>0.0</td>\n",
       "      <td>2022-01-01T03:39:51Z</td>\n",
       "      <td>chavandposh</td>\n",
       "      <td>3.0</td>\n",
       "      <td>Parent</td>\n",
       "    </tr>\n",
       "  </tbody>\n",
       "</table>\n",
       "</div>"
      ],
      "text/plain": [
       "           vid                 vtime  \\\n",
       "0  5imqfqo6jtI  2022-01-01T21:22:43Z   \n",
       "1  45kVesI8mLw  2022-01-01T03:26:19Z   \n",
       "\n",
       "                                              vtitle   view vlike ccnt  \\\n",
       "0  오미크론 한달 만에 1천 명대…숨은 감염 확산하며 다음달 안에 우세종 / KBS  ...   3629    14   12   \n",
       "1    WHO 사무총장, '올해 코로나 종식 낙관론' 피력 / KBS  2022.01.01.  31788   251  268   \n",
       "\n",
       "                                             comment  \\\n",
       "0  결론은 뭔지아세요..? 코로나저거 걸려도 증상도 별로 없어서 내가 걸렸는지도 모르고...   \n",
       "1                                           안믿어 안믿어.   \n",
       "\n",
       "                          cid  reply                 ctime       author  \\\n",
       "0  UgzuhgNgfT6l29nDgwF4AaABAg    0.0  2022-01-03T10:08:48Z          김 영   \n",
       "1  Ugw6ihJVxQorenSMq_Z4AaABAg    0.0  2022-01-01T03:39:51Z  chavandposh   \n",
       "\n",
       "   clike  parent  \n",
       "0    1.0  Parent  \n",
       "1    3.0  Parent  "
      ]
     },
     "execution_count": 40,
     "metadata": {},
     "output_type": "execute_result"
    }
   ],
   "source": [
    "youtube_filtered.head(2)"
   ]
  },
  {
   "cell_type": "code",
   "execution_count": 41,
   "metadata": {},
   "outputs": [
    {
     "data": {
      "text/html": [
       "<div>\n",
       "<style scoped>\n",
       "    .dataframe tbody tr th:only-of-type {\n",
       "        vertical-align: middle;\n",
       "    }\n",
       "\n",
       "    .dataframe tbody tr th {\n",
       "        vertical-align: top;\n",
       "    }\n",
       "\n",
       "    .dataframe thead th {\n",
       "        text-align: right;\n",
       "    }\n",
       "</style>\n",
       "<table border=\"1\" class=\"dataframe\">\n",
       "  <thead>\n",
       "    <tr style=\"text-align: right;\">\n",
       "      <th></th>\n",
       "      <th>vid</th>\n",
       "      <th>vtime</th>\n",
       "      <th>vtitle</th>\n",
       "      <th>comment</th>\n",
       "      <th>reply</th>\n",
       "      <th>ctime</th>\n",
       "      <th>author</th>\n",
       "      <th>clike</th>\n",
       "      <th>parent</th>\n",
       "      <th>category</th>\n",
       "    </tr>\n",
       "  </thead>\n",
       "  <tbody>\n",
       "    <tr>\n",
       "      <th>0</th>\n",
       "      <td>5imqfqo6jtI</td>\n",
       "      <td>2022.01.02. 오전 6:05</td>\n",
       "      <td>오미크론 한달 만에 1천 명대…숨은 감염 확산하며 다음달 안에 우세종</td>\n",
       "      <td>deleted</td>\n",
       "      <td>-1</td>\n",
       "      <td>2022.01.02. 11:34</td>\n",
       "      <td>fndk****</td>\n",
       "      <td>-1</td>\n",
       "      <td>-1</td>\n",
       "      <td>사회</td>\n",
       "    </tr>\n",
       "    <tr>\n",
       "      <th>1</th>\n",
       "      <td>5imqfqo6jtI</td>\n",
       "      <td>2022.01.02. 오전 6:05</td>\n",
       "      <td>오미크론 한달 만에 1천 명대…숨은 감염 확산하며 다음달 안에 우세종</td>\n",
       "      <td>jsw8****</td>\n",
       "      <td>0</td>\n",
       "      <td>2022.01.03. 09:42</td>\n",
       "      <td>오미크론은 감기수준인ㄷ 문재인은 대선 투표조작을 위해 오미크론을 핑계로 사전투표를 ...</td>\n",
       "      <td>0</td>\n",
       "      <td>parent</td>\n",
       "      <td>사회</td>\n",
       "    </tr>\n",
       "  </tbody>\n",
       "</table>\n",
       "</div>"
      ],
      "text/plain": [
       "           vid                vtime                                  vtitle  \\\n",
       "0  5imqfqo6jtI  2022.01.02. 오전 6:05  오미크론 한달 만에 1천 명대…숨은 감염 확산하며 다음달 안에 우세종   \n",
       "1  5imqfqo6jtI  2022.01.02. 오전 6:05  오미크론 한달 만에 1천 명대…숨은 감염 확산하며 다음달 안에 우세종   \n",
       "\n",
       "    comment  reply              ctime  \\\n",
       "0   deleted     -1  2022.01.02. 11:34   \n",
       "1  jsw8****      0  2022.01.03. 09:42   \n",
       "\n",
       "                                              author  clike  parent category  \n",
       "0                                           fndk****     -1      -1       사회  \n",
       "1  오미크론은 감기수준인ㄷ 문재인은 대선 투표조작을 위해 오미크론을 핑계로 사전투표를 ...      0  parent       사회  "
      ]
     },
     "execution_count": 41,
     "metadata": {},
     "output_type": "execute_result"
    }
   ],
   "source": [
    "naver_filtered.head(2)"
   ]
  },
  {
   "cell_type": "code",
   "execution_count": 82,
   "metadata": {},
   "outputs": [],
   "source": [
    "comment_cnt = pd.merge(\n",
    "    left = pd.DataFrame(youtube_filtered.groupby('vid').size()),\n",
    "    right = pd.DataFrame(naver_filtered.groupby('vid').size()),\n",
    "    how = 'inner',\n",
    "    on = 'vid')\n",
    "\n",
    "comment_cnt.columns = ['youtube','naver']"
   ]
  },
  {
   "cell_type": "code",
   "execution_count": 83,
   "metadata": {},
   "outputs": [
    {
     "data": {
      "text/html": [
       "<div>\n",
       "<style scoped>\n",
       "    .dataframe tbody tr th:only-of-type {\n",
       "        vertical-align: middle;\n",
       "    }\n",
       "\n",
       "    .dataframe tbody tr th {\n",
       "        vertical-align: top;\n",
       "    }\n",
       "\n",
       "    .dataframe thead th {\n",
       "        text-align: right;\n",
       "    }\n",
       "</style>\n",
       "<table border=\"1\" class=\"dataframe\">\n",
       "  <thead>\n",
       "    <tr style=\"text-align: right;\">\n",
       "      <th></th>\n",
       "      <th>youtube</th>\n",
       "      <th>naver</th>\n",
       "    </tr>\n",
       "    <tr>\n",
       "      <th>vid</th>\n",
       "      <th></th>\n",
       "      <th></th>\n",
       "    </tr>\n",
       "  </thead>\n",
       "  <tbody>\n",
       "    <tr>\n",
       "      <th>-2KbmcbYaZg</th>\n",
       "      <td>2</td>\n",
       "      <td>1</td>\n",
       "    </tr>\n",
       "    <tr>\n",
       "      <th>-9w1W5DiNt0</th>\n",
       "      <td>20</td>\n",
       "      <td>5</td>\n",
       "    </tr>\n",
       "    <tr>\n",
       "      <th>-Ak_rXYhAoA</th>\n",
       "      <td>2</td>\n",
       "      <td>12</td>\n",
       "    </tr>\n",
       "    <tr>\n",
       "      <th>-C_TMXKuJq0</th>\n",
       "      <td>14</td>\n",
       "      <td>7</td>\n",
       "    </tr>\n",
       "    <tr>\n",
       "      <th>-DIiXJV80zo</th>\n",
       "      <td>1</td>\n",
       "      <td>16</td>\n",
       "    </tr>\n",
       "    <tr>\n",
       "      <th>...</th>\n",
       "      <td>...</td>\n",
       "      <td>...</td>\n",
       "    </tr>\n",
       "    <tr>\n",
       "      <th>znrGagwWfu0</th>\n",
       "      <td>28</td>\n",
       "      <td>5</td>\n",
       "    </tr>\n",
       "    <tr>\n",
       "      <th>zpe7BgZPirk</th>\n",
       "      <td>1365</td>\n",
       "      <td>65</td>\n",
       "    </tr>\n",
       "    <tr>\n",
       "      <th>zqMimKl5nv8</th>\n",
       "      <td>14</td>\n",
       "      <td>3</td>\n",
       "    </tr>\n",
       "    <tr>\n",
       "      <th>zsUKBGA3_A0</th>\n",
       "      <td>14</td>\n",
       "      <td>6</td>\n",
       "    </tr>\n",
       "    <tr>\n",
       "      <th>zvt1r_xX65Q</th>\n",
       "      <td>24</td>\n",
       "      <td>1</td>\n",
       "    </tr>\n",
       "  </tbody>\n",
       "</table>\n",
       "<p>1863 rows × 2 columns</p>\n",
       "</div>"
      ],
      "text/plain": [
       "             youtube  naver\n",
       "vid                        \n",
       "-2KbmcbYaZg        2      1\n",
       "-9w1W5DiNt0       20      5\n",
       "-Ak_rXYhAoA        2     12\n",
       "-C_TMXKuJq0       14      7\n",
       "-DIiXJV80zo        1     16\n",
       "...              ...    ...\n",
       "znrGagwWfu0       28      5\n",
       "zpe7BgZPirk     1365     65\n",
       "zqMimKl5nv8       14      3\n",
       "zsUKBGA3_A0       14      6\n",
       "zvt1r_xX65Q       24      1\n",
       "\n",
       "[1863 rows x 2 columns]"
      ]
     },
     "execution_count": 83,
     "metadata": {},
     "output_type": "execute_result"
    }
   ],
   "source": [
    "comment_cnt"
   ]
  },
  {
   "cell_type": "code",
   "execution_count": 84,
   "metadata": {},
   "outputs": [],
   "source": [
    "from sklearn.preprocessing import StandardScaler\n",
    "import numpy as np\n",
    "\n",
    "stdScaler = StandardScaler()\n",
    "z_score = stdScaler.fit_transform(np.array(comment_cnt[['youtube', 'naver']]))"
   ]
  },
  {
   "cell_type": "code",
   "execution_count": 85,
   "metadata": {},
   "outputs": [
    {
     "name": "stderr",
     "output_type": "stream",
     "text": [
      "/home/mglee/anaconda3/envs/save/lib/python3.8/site-packages/seaborn/distributions.py:2619: FutureWarning: `distplot` is a deprecated function and will be removed in a future version. Please adapt your code to use either `displot` (a figure-level function with similar flexibility) or `histplot` (an axes-level function for histograms).\n",
      "  warnings.warn(msg, FutureWarning)\n",
      "/home/mglee/anaconda3/envs/save/lib/python3.8/site-packages/seaborn/distributions.py:2619: FutureWarning: `distplot` is a deprecated function and will be removed in a future version. Please adapt your code to use either `displot` (a figure-level function with similar flexibility) or `histplot` (an axes-level function for histograms).\n",
      "  warnings.warn(msg, FutureWarning)\n"
     ]
    },
    {
     "data": {
      "text/plain": [
       "<AxesSubplot:xlabel='1', ylabel='Density'>"
      ]
     },
     "execution_count": 85,
     "metadata": {},
     "output_type": "execute_result"
    },
    {
     "data": {
      "image/png": "[encoded data removed]",
      "text/plain": [
       "<Figure size 432x288 with 1 Axes>"
      ]
     },
     "metadata": {
      "needs_background": "light"
     },
     "output_type": "display_data"
    }
   ],
   "source": [
    "import seaborn as sns\n",
    "\n",
    "#sns.distplot(comment_cnt['youtube'])\n",
    "sns.distplot(pd.DataFrame(z_score)[0])\n",
    "sns.distplot(pd.DataFrame(z_score)[1])"
   ]
  },
  {
   "cell_type": "code",
   "execution_count": 86,
   "metadata": {},
   "outputs": [
    {
     "data": {
      "text/plain": [
       "0      -0.639112\n",
       "1      -0.247703\n",
       "2       0.437262\n",
       "3      -0.051999\n",
       "4       0.828671\n",
       "          ...   \n",
       "1858   -0.247703\n",
       "1859    5.623432\n",
       "1860   -0.443408\n",
       "1861   -0.149851\n",
       "1862   -0.639112\n",
       "Name: 1, Length: 1863, dtype: float64"
      ]
     },
     "execution_count": 86,
     "metadata": {},
     "output_type": "execute_result"
    }
   ],
   "source": [
    "pd.DataFrame(z_score)[1]"
   ]
  },
  {
   "cell_type": "code",
   "execution_count": 87,
   "metadata": {},
   "outputs": [],
   "source": [
    "comment_cnt['youtube_norm'] = list(pd.DataFrame(z_score)[0])\n",
    "comment_cnt['naver_norm'] = list(pd.DataFrame(z_score)[1])"
   ]
  },
  {
   "cell_type": "code",
   "execution_count": 88,
   "metadata": {},
   "outputs": [
    {
     "data": {
      "text/plain": [
       "vid\n",
       "-2KbmcbYaZg    0.546780\n",
       "-9w1W5DiNt0    0.561096\n",
       "-Ak_rXYhAoA    0.546780\n",
       "-C_TMXKuJq0    0.556346\n",
       "-DIiXJV80zo    0.545979\n",
       "                 ...   \n",
       "znrGagwWfu0    0.567393\n",
       "zpe7BgZPirk    1.284803\n",
       "zqMimKl5nv8    0.556346\n",
       "zsUKBGA3_A0    0.556346\n",
       "zvt1r_xX65Q    0.564249\n",
       "Name: youtube_norm, Length: 1863, dtype: float64"
      ]
     },
     "execution_count": 88,
     "metadata": {},
     "output_type": "execute_result"
    }
   ],
   "source": [
    "np.log(comment_cnt['naver_norm'] + 2)\n",
    "np.log(comment_cnt['youtube_norm'] + 2)"
   ]
  },
  {
   "cell_type": "code",
   "execution_count": 89,
   "metadata": {},
   "outputs": [
    {
     "name": "stderr",
     "output_type": "stream",
     "text": [
      "/home/mglee/anaconda3/envs/save/lib/python3.8/site-packages/pandas/core/arraylike.py:397: RuntimeWarning: invalid value encountered in log\n",
      "  result = getattr(ufunc, method)(*inputs, **kwargs)\n",
      "/home/mglee/anaconda3/envs/save/lib/python3.8/site-packages/seaborn/distributions.py:2619: FutureWarning: `distplot` is a deprecated function and will be removed in a future version. Please adapt your code to use either `displot` (a figure-level function with similar flexibility) or `histplot` (an axes-level function for histograms).\n",
      "  warnings.warn(msg, FutureWarning)\n",
      "/home/mglee/anaconda3/envs/save/lib/python3.8/site-packages/pandas/core/arraylike.py:397: RuntimeWarning: invalid value encountered in log\n",
      "  result = getattr(ufunc, method)(*inputs, **kwargs)\n",
      "/home/mglee/anaconda3/envs/save/lib/python3.8/site-packages/seaborn/distributions.py:2619: FutureWarning: `distplot` is a deprecated function and will be removed in a future version. Please adapt your code to use either `displot` (a figure-level function with similar flexibility) or `histplot` (an axes-level function for histograms).\n",
      "  warnings.warn(msg, FutureWarning)\n"
     ]
    },
    {
     "data": {
      "text/plain": [
       "<matplotlib.legend.Legend at 0x7f6170a12bb0>"
      ]
     },
     "execution_count": 89,
     "metadata": {},
     "output_type": "execute_result"
    },
    {
     "data": {
      "image/png": "[encoded data removed]",
      "text/plain": [
       "<Figure size 432x288 with 1 Axes>"
      ]
     },
     "metadata": {
      "needs_background": "light"
     },
     "output_type": "display_data"
    }
   ],
   "source": [
    "import numpy as np\n",
    "import matplotlib.pyplot as plt\n",
    "\n",
    "sns.distplot(np.log(comment_cnt['youtube_norm']), label = 'youtube')\n",
    "sns.distplot(np.log(comment_cnt['naver_norm']), label = 'naver')\n",
    "plt.legend()"
   ]
  },
  {
   "cell_type": "code",
   "execution_count": 90,
   "metadata": {},
   "outputs": [
    {
     "data": {
      "text/plain": [
       "vid\n",
       "-2KbmcbYaZg   -0.272319\n",
       "-9w1W5DiNt0   -0.247409\n",
       "-Ak_rXYhAoA   -0.272319\n",
       "-C_TMXKuJq0   -0.255712\n",
       "-DIiXJV80zo   -0.273703\n",
       "                 ...   \n",
       "znrGagwWfu0   -0.236337\n",
       "zpe7BgZPirk    1.613955\n",
       "zqMimKl5nv8   -0.255712\n",
       "zsUKBGA3_A0   -0.255712\n",
       "zvt1r_xX65Q   -0.241873\n",
       "Name: youtube_norm, Length: 1863, dtype: float64"
      ]
     },
     "execution_count": 90,
     "metadata": {},
     "output_type": "execute_result"
    }
   ],
   "source": [
    "comment_cnt['youtube_norm']"
   ]
  },
  {
   "cell_type": "code",
   "execution_count": 91,
   "metadata": {},
   "outputs": [],
   "source": [
    "comment_cnt['log_youtube'] = np.log(comment_cnt['youtube_norm'] + 2)\n",
    "comment_cnt['log_naver'] = np.log(comment_cnt['naver_norm'] + 2)"
   ]
  },
  {
   "cell_type": "code",
   "execution_count": 92,
   "metadata": {},
   "outputs": [],
   "source": [
    "comment_cnt = comment_cnt.reset_index()"
   ]
  },
  {
   "cell_type": "code",
   "execution_count": 53,
   "metadata": {},
   "outputs": [],
   "source": [
    "comment_cnt.loc[comment_cnt['log_youtube'] < 0.00001, 'log_youtube'] = 0.000001\n",
    "comment_cnt.loc[comment_cnt['log_naver'] < 0.00001, 'log_naver'] = 0.000001"
   ]
  },
  {
   "cell_type": "code",
   "execution_count": 93,
   "metadata": {},
   "outputs": [
    {
     "data": {
      "text/html": [
       "<div>\n",
       "<style scoped>\n",
       "    .dataframe tbody tr th:only-of-type {\n",
       "        vertical-align: middle;\n",
       "    }\n",
       "\n",
       "    .dataframe tbody tr th {\n",
       "        vertical-align: top;\n",
       "    }\n",
       "\n",
       "    .dataframe thead th {\n",
       "        text-align: right;\n",
       "    }\n",
       "</style>\n",
       "<table border=\"1\" class=\"dataframe\">\n",
       "  <thead>\n",
       "    <tr style=\"text-align: right;\">\n",
       "      <th></th>\n",
       "      <th>vid</th>\n",
       "      <th>youtube</th>\n",
       "      <th>naver</th>\n",
       "      <th>youtube_norm</th>\n",
       "      <th>naver_norm</th>\n",
       "      <th>log_youtube</th>\n",
       "      <th>log_naver</th>\n",
       "    </tr>\n",
       "  </thead>\n",
       "  <tbody>\n",
       "    <tr>\n",
       "      <th>0</th>\n",
       "      <td>-2KbmcbYaZg</td>\n",
       "      <td>2</td>\n",
       "      <td>1</td>\n",
       "      <td>-0.272319</td>\n",
       "      <td>-0.639112</td>\n",
       "      <td>0.546780</td>\n",
       "      <td>0.308137</td>\n",
       "    </tr>\n",
       "    <tr>\n",
       "      <th>1</th>\n",
       "      <td>-9w1W5DiNt0</td>\n",
       "      <td>20</td>\n",
       "      <td>5</td>\n",
       "      <td>-0.247409</td>\n",
       "      <td>-0.247703</td>\n",
       "      <td>0.561096</td>\n",
       "      <td>0.560927</td>\n",
       "    </tr>\n",
       "    <tr>\n",
       "      <th>2</th>\n",
       "      <td>-Ak_rXYhAoA</td>\n",
       "      <td>2</td>\n",
       "      <td>12</td>\n",
       "      <td>-0.272319</td>\n",
       "      <td>0.437262</td>\n",
       "      <td>0.546780</td>\n",
       "      <td>0.890875</td>\n",
       "    </tr>\n",
       "    <tr>\n",
       "      <th>3</th>\n",
       "      <td>-C_TMXKuJq0</td>\n",
       "      <td>14</td>\n",
       "      <td>7</td>\n",
       "      <td>-0.255712</td>\n",
       "      <td>-0.051999</td>\n",
       "      <td>0.556346</td>\n",
       "      <td>0.666804</td>\n",
       "    </tr>\n",
       "    <tr>\n",
       "      <th>4</th>\n",
       "      <td>-DIiXJV80zo</td>\n",
       "      <td>1</td>\n",
       "      <td>16</td>\n",
       "      <td>-0.273703</td>\n",
       "      <td>0.828671</td>\n",
       "      <td>0.545979</td>\n",
       "      <td>1.039807</td>\n",
       "    </tr>\n",
       "    <tr>\n",
       "      <th>...</th>\n",
       "      <td>...</td>\n",
       "      <td>...</td>\n",
       "      <td>...</td>\n",
       "      <td>...</td>\n",
       "      <td>...</td>\n",
       "      <td>...</td>\n",
       "      <td>...</td>\n",
       "    </tr>\n",
       "    <tr>\n",
       "      <th>1858</th>\n",
       "      <td>znrGagwWfu0</td>\n",
       "      <td>28</td>\n",
       "      <td>5</td>\n",
       "      <td>-0.236337</td>\n",
       "      <td>-0.247703</td>\n",
       "      <td>0.567393</td>\n",
       "      <td>0.560927</td>\n",
       "    </tr>\n",
       "    <tr>\n",
       "      <th>1859</th>\n",
       "      <td>zpe7BgZPirk</td>\n",
       "      <td>1365</td>\n",
       "      <td>65</td>\n",
       "      <td>1.613955</td>\n",
       "      <td>5.623432</td>\n",
       "      <td>1.284803</td>\n",
       "      <td>2.031227</td>\n",
       "    </tr>\n",
       "    <tr>\n",
       "      <th>1860</th>\n",
       "      <td>zqMimKl5nv8</td>\n",
       "      <td>14</td>\n",
       "      <td>3</td>\n",
       "      <td>-0.255712</td>\n",
       "      <td>-0.443408</td>\n",
       "      <td>0.556346</td>\n",
       "      <td>0.442499</td>\n",
       "    </tr>\n",
       "    <tr>\n",
       "      <th>1861</th>\n",
       "      <td>zsUKBGA3_A0</td>\n",
       "      <td>14</td>\n",
       "      <td>6</td>\n",
       "      <td>-0.255712</td>\n",
       "      <td>-0.149851</td>\n",
       "      <td>0.556346</td>\n",
       "      <td>0.615266</td>\n",
       "    </tr>\n",
       "    <tr>\n",
       "      <th>1862</th>\n",
       "      <td>zvt1r_xX65Q</td>\n",
       "      <td>24</td>\n",
       "      <td>1</td>\n",
       "      <td>-0.241873</td>\n",
       "      <td>-0.639112</td>\n",
       "      <td>0.564249</td>\n",
       "      <td>0.308137</td>\n",
       "    </tr>\n",
       "  </tbody>\n",
       "</table>\n",
       "<p>1863 rows × 7 columns</p>\n",
       "</div>"
      ],
      "text/plain": [
       "              vid  youtube  naver  youtube_norm  naver_norm  log_youtube  \\\n",
       "0     -2KbmcbYaZg        2      1     -0.272319   -0.639112     0.546780   \n",
       "1     -9w1W5DiNt0       20      5     -0.247409   -0.247703     0.561096   \n",
       "2     -Ak_rXYhAoA        2     12     -0.272319    0.437262     0.546780   \n",
       "3     -C_TMXKuJq0       14      7     -0.255712   -0.051999     0.556346   \n",
       "4     -DIiXJV80zo        1     16     -0.273703    0.828671     0.545979   \n",
       "...           ...      ...    ...           ...         ...          ...   \n",
       "1858  znrGagwWfu0       28      5     -0.236337   -0.247703     0.567393   \n",
       "1859  zpe7BgZPirk     1365     65      1.613955    5.623432     1.284803   \n",
       "1860  zqMimKl5nv8       14      3     -0.255712   -0.443408     0.556346   \n",
       "1861  zsUKBGA3_A0       14      6     -0.255712   -0.149851     0.556346   \n",
       "1862  zvt1r_xX65Q       24      1     -0.241873   -0.639112     0.564249   \n",
       "\n",
       "      log_naver  \n",
       "0      0.308137  \n",
       "1      0.560927  \n",
       "2      0.890875  \n",
       "3      0.666804  \n",
       "4      1.039807  \n",
       "...         ...  \n",
       "1858   0.560927  \n",
       "1859   2.031227  \n",
       "1860   0.442499  \n",
       "1861   0.615266  \n",
       "1862   0.308137  \n",
       "\n",
       "[1863 rows x 7 columns]"
      ]
     },
     "execution_count": 93,
     "metadata": {},
     "output_type": "execute_result"
    }
   ],
   "source": [
    "comment_cnt"
   ]
  },
  {
   "cell_type": "code",
   "execution_count": 223,
   "metadata": {},
   "outputs": [],
   "source": [
    "comment_cnt = comment_cnt.dropna()"
   ]
  },
  {
   "cell_type": "code",
   "execution_count": 224,
   "metadata": {},
   "outputs": [],
   "source": [
    "comment_cnt.reset_index(drop = True, inplace = True)"
   ]
  },
  {
   "cell_type": "code",
   "execution_count": 94,
   "metadata": {},
   "outputs": [],
   "source": [
    "comment_cnt['ratio'] = comment_cnt['naver'] / comment_cnt['youtube']\n",
    "comment_cnt['log_ratio'] = comment_cnt['log_naver'] - comment_cnt['log_youtube']"
   ]
  },
  {
   "cell_type": "code",
   "execution_count": 99,
   "metadata": {},
   "outputs": [],
   "source": [
    "comment_cnt['vtitle'] = comment_cnt['vid'].apply(lambda x: vid_dict[x])\n",
    "comment_cnt['category'] = comment_cnt['vid'].apply(lambda x: category_dict[x])"
   ]
  },
  {
   "cell_type": "code",
   "execution_count": 102,
   "metadata": {},
   "outputs": [
    {
     "data": {
      "text/html": [
       "<div>\n",
       "<style scoped>\n",
       "    .dataframe tbody tr th:only-of-type {\n",
       "        vertical-align: middle;\n",
       "    }\n",
       "\n",
       "    .dataframe tbody tr th {\n",
       "        vertical-align: top;\n",
       "    }\n",
       "\n",
       "    .dataframe thead th {\n",
       "        text-align: right;\n",
       "    }\n",
       "</style>\n",
       "<table border=\"1\" class=\"dataframe\">\n",
       "  <thead>\n",
       "    <tr style=\"text-align: right;\">\n",
       "      <th></th>\n",
       "      <th>vid</th>\n",
       "      <th>youtube</th>\n",
       "      <th>naver</th>\n",
       "      <th>youtube_norm</th>\n",
       "      <th>naver_norm</th>\n",
       "      <th>log_youtube</th>\n",
       "      <th>log_naver</th>\n",
       "      <th>ratio</th>\n",
       "      <th>log_ratio</th>\n",
       "      <th>category</th>\n",
       "      <th>vtitle</th>\n",
       "    </tr>\n",
       "  </thead>\n",
       "  <tbody>\n",
       "    <tr>\n",
       "      <th>433</th>\n",
       "      <td>DVGFTDuJQyw</td>\n",
       "      <td>10919</td>\n",
       "      <td>5</td>\n",
       "      <td>14.835866</td>\n",
       "      <td>-0.247703</td>\n",
       "      <td>2.823512</td>\n",
       "      <td>0.560927</td>\n",
       "      <td>0.000458</td>\n",
       "      <td>-2.262584</td>\n",
       "      <td>사회</td>\n",
       "      <td>등굣길 초등학생, 80대 남성 집 끌려가 성폭행</td>\n",
       "    </tr>\n",
       "    <tr>\n",
       "      <th>1437</th>\n",
       "      <td>lGcg7-EWbl0</td>\n",
       "      <td>7147</td>\n",
       "      <td>5</td>\n",
       "      <td>9.615744</td>\n",
       "      <td>-0.247703</td>\n",
       "      <td>2.452361</td>\n",
       "      <td>0.560927</td>\n",
       "      <td>0.000700</td>\n",
       "      <td>-1.891434</td>\n",
       "      <td>사회</td>\n",
       "      <td>14만 전체 경찰회의로 확대 추진…이상민 “부화뇌동, 위험”</td>\n",
       "    </tr>\n",
       "    <tr>\n",
       "      <th>1020</th>\n",
       "      <td>WyVecNe8yEg</td>\n",
       "      <td>6664</td>\n",
       "      <td>6</td>\n",
       "      <td>8.947314</td>\n",
       "      <td>-0.149851</td>\n",
       "      <td>2.393094</td>\n",
       "      <td>0.615266</td>\n",
       "      <td>0.000900</td>\n",
       "      <td>-1.777828</td>\n",
       "      <td>경제</td>\n",
       "      <td>[ET] ‘아이 안 낳는’ 한·중·일…서양인들이 분석해낸 이유?</td>\n",
       "    </tr>\n",
       "    <tr>\n",
       "      <th>1466</th>\n",
       "      <td>mDsbMUnqZsw</td>\n",
       "      <td>5187</td>\n",
       "      <td>3</td>\n",
       "      <td>6.903273</td>\n",
       "      <td>-0.443408</td>\n",
       "      <td>2.186419</td>\n",
       "      <td>0.442499</td>\n",
       "      <td>0.000578</td>\n",
       "      <td>-1.743920</td>\n",
       "      <td>세계</td>\n",
       "      <td>후쿠시마원전 항만에 세슘 물고기…“원전 오염수 관리 불능”</td>\n",
       "    </tr>\n",
       "    <tr>\n",
       "      <th>118</th>\n",
       "      <td>39Luin3bgfM</td>\n",
       "      <td>4157</td>\n",
       "      <td>2</td>\n",
       "      <td>5.477842</td>\n",
       "      <td>-0.541260</td>\n",
       "      <td>2.011944</td>\n",
       "      <td>0.377573</td>\n",
       "      <td>0.000481</td>\n",
       "      <td>-1.634371</td>\n",
       "      <td>사회</td>\n",
       "      <td>[크랩] 시간을 돈으로 사는 수준이라는 지하철 신분당선</td>\n",
       "    </tr>\n",
       "    <tr>\n",
       "      <th>1805</th>\n",
       "      <td>y7G3c1boRbs</td>\n",
       "      <td>3689</td>\n",
       "      <td>2</td>\n",
       "      <td>4.830171</td>\n",
       "      <td>-0.541260</td>\n",
       "      <td>1.921350</td>\n",
       "      <td>0.377573</td>\n",
       "      <td>0.000542</td>\n",
       "      <td>-1.543777</td>\n",
       "      <td>사회</td>\n",
       "      <td>[친절한 뉴스K] 일회용품 금지 확대 석 달 앞으로…어떤 품목 안 될까?</td>\n",
       "    </tr>\n",
       "    <tr>\n",
       "      <th>690</th>\n",
       "      <td>MU3_ZbVy7L4</td>\n",
       "      <td>3210</td>\n",
       "      <td>1</td>\n",
       "      <td>4.167276</td>\n",
       "      <td>-0.639112</td>\n",
       "      <td>1.819257</td>\n",
       "      <td>0.308137</td>\n",
       "      <td>0.000312</td>\n",
       "      <td>-1.511120</td>\n",
       "      <td>사회</td>\n",
       "      <td>“이틀 만에 간까지 이동”…작을수록 오래 남아 악영향</td>\n",
       "    </tr>\n",
       "    <tr>\n",
       "      <th>1272</th>\n",
       "      <td>fFwkVjUoBpM</td>\n",
       "      <td>5420</td>\n",
       "      <td>8</td>\n",
       "      <td>7.225725</td>\n",
       "      <td>0.045853</td>\n",
       "      <td>2.221996</td>\n",
       "      <td>0.715815</td>\n",
       "      <td>0.001476</td>\n",
       "      <td>-1.506181</td>\n",
       "      <td>사회</td>\n",
       "      <td>세종시 20대 공무원 극단적 선택…“3명이 하던 일 혼자 도맡아”</td>\n",
       "    </tr>\n",
       "    <tr>\n",
       "      <th>761</th>\n",
       "      <td>ONmEmtDGDas</td>\n",
       "      <td>4296</td>\n",
       "      <td>5</td>\n",
       "      <td>5.670206</td>\n",
       "      <td>-0.247703</td>\n",
       "      <td>2.037344</td>\n",
       "      <td>0.560927</td>\n",
       "      <td>0.001164</td>\n",
       "      <td>-1.476416</td>\n",
       "      <td>사회</td>\n",
       "      <td>“끝까지 싸우겠다”…법원 판결 이후, 이슬람 갈등 더욱 격화</td>\n",
       "    </tr>\n",
       "    <tr>\n",
       "      <th>1393</th>\n",
       "      <td>jb90PCpAZ6g</td>\n",
       "      <td>5207</td>\n",
       "      <td>8</td>\n",
       "      <td>6.930952</td>\n",
       "      <td>0.045853</td>\n",
       "      <td>2.189523</td>\n",
       "      <td>0.715815</td>\n",
       "      <td>0.001536</td>\n",
       "      <td>-1.473708</td>\n",
       "      <td>사회</td>\n",
       "      <td>40인분 시켜놓고 ‘노쇼’… 상습 허위 주문 피해 속출</td>\n",
       "    </tr>\n",
       "    <tr>\n",
       "      <th>1257</th>\n",
       "      <td>ewMG-79T9Fc</td>\n",
       "      <td>3306</td>\n",
       "      <td>2</td>\n",
       "      <td>4.300132</td>\n",
       "      <td>-0.541260</td>\n",
       "      <td>1.840571</td>\n",
       "      <td>0.377573</td>\n",
       "      <td>0.000605</td>\n",
       "      <td>-1.462998</td>\n",
       "      <td>사회</td>\n",
       "      <td>LP가스통에 애완견 집까지…얌체 ‘장박 텐트’ 단속</td>\n",
       "    </tr>\n",
       "    <tr>\n",
       "      <th>886</th>\n",
       "      <td>SmG31cp-lyk</td>\n",
       "      <td>3158</td>\n",
       "      <td>2</td>\n",
       "      <td>4.095313</td>\n",
       "      <td>-0.541260</td>\n",
       "      <td>1.807520</td>\n",
       "      <td>0.377573</td>\n",
       "      <td>0.000633</td>\n",
       "      <td>-1.429947</td>\n",
       "      <td>사회</td>\n",
       "      <td>유명세에 말라가는 창원 팽나무…“보호대책 시급”</td>\n",
       "    </tr>\n",
       "    <tr>\n",
       "      <th>26</th>\n",
       "      <td>-unC2A5RV6g</td>\n",
       "      <td>5503</td>\n",
       "      <td>10</td>\n",
       "      <td>7.340590</td>\n",
       "      <td>0.241558</td>\n",
       "      <td>2.234369</td>\n",
       "      <td>0.807171</td>\n",
       "      <td>0.001817</td>\n",
       "      <td>-1.427198</td>\n",
       "      <td>경제</td>\n",
       "      <td>주담대 금리 어디까지 오를까?…‘영끌족’ 부담 ‘막막’</td>\n",
       "    </tr>\n",
       "    <tr>\n",
       "      <th>635</th>\n",
       "      <td>KlsBuDo9H18</td>\n",
       "      <td>2978</td>\n",
       "      <td>3</td>\n",
       "      <td>3.846208</td>\n",
       "      <td>-0.443408</td>\n",
       "      <td>1.765793</td>\n",
       "      <td>0.442499</td>\n",
       "      <td>0.001007</td>\n",
       "      <td>-1.323294</td>\n",
       "      <td>세계</td>\n",
       "      <td>[ET] 에어컨 없던 영국이 40도…유엔 “공동대응 안 하면 다 죽어”</td>\n",
       "    </tr>\n",
       "    <tr>\n",
       "      <th>947</th>\n",
       "      <td>UpjGdER7TLI</td>\n",
       "      <td>3461</td>\n",
       "      <td>5</td>\n",
       "      <td>4.514638</td>\n",
       "      <td>-0.247703</td>\n",
       "      <td>1.874052</td>\n",
       "      <td>0.560927</td>\n",
       "      <td>0.001445</td>\n",
       "      <td>-1.313124</td>\n",
       "      <td>사회</td>\n",
       "      <td>‘조폭 요즘 없던데’는 착각…100일 동안 1,630명 잡혔다</td>\n",
       "    </tr>\n",
       "  </tbody>\n",
       "</table>\n",
       "</div>"
      ],
      "text/plain": [
       "              vid  youtube  naver  youtube_norm  naver_norm  log_youtube  \\\n",
       "433   DVGFTDuJQyw    10919      5     14.835866   -0.247703     2.823512   \n",
       "1437  lGcg7-EWbl0     7147      5      9.615744   -0.247703     2.452361   \n",
       "1020  WyVecNe8yEg     6664      6      8.947314   -0.149851     2.393094   \n",
       "1466  mDsbMUnqZsw     5187      3      6.903273   -0.443408     2.186419   \n",
       "118   39Luin3bgfM     4157      2      5.477842   -0.541260     2.011944   \n",
       "1805  y7G3c1boRbs     3689      2      4.830171   -0.541260     1.921350   \n",
       "690   MU3_ZbVy7L4     3210      1      4.167276   -0.639112     1.819257   \n",
       "1272  fFwkVjUoBpM     5420      8      7.225725    0.045853     2.221996   \n",
       "761   ONmEmtDGDas     4296      5      5.670206   -0.247703     2.037344   \n",
       "1393  jb90PCpAZ6g     5207      8      6.930952    0.045853     2.189523   \n",
       "1257  ewMG-79T9Fc     3306      2      4.300132   -0.541260     1.840571   \n",
       "886   SmG31cp-lyk     3158      2      4.095313   -0.541260     1.807520   \n",
       "26    -unC2A5RV6g     5503     10      7.340590    0.241558     2.234369   \n",
       "635   KlsBuDo9H18     2978      3      3.846208   -0.443408     1.765793   \n",
       "947   UpjGdER7TLI     3461      5      4.514638   -0.247703     1.874052   \n",
       "\n",
       "      log_naver     ratio  log_ratio category  \\\n",
       "433    0.560927  0.000458  -2.262584       사회   \n",
       "1437   0.560927  0.000700  -1.891434       사회   \n",
       "1020   0.615266  0.000900  -1.777828       경제   \n",
       "1466   0.442499  0.000578  -1.743920       세계   \n",
       "118    0.377573  0.000481  -1.634371       사회   \n",
       "1805   0.377573  0.000542  -1.543777       사회   \n",
       "690    0.308137  0.000312  -1.511120       사회   \n",
       "1272   0.715815  0.001476  -1.506181       사회   \n",
       "761    0.560927  0.001164  -1.476416       사회   \n",
       "1393   0.715815  0.001536  -1.473708       사회   \n",
       "1257   0.377573  0.000605  -1.462998       사회   \n",
       "886    0.377573  0.000633  -1.429947       사회   \n",
       "26     0.807171  0.001817  -1.427198       경제   \n",
       "635    0.442499  0.001007  -1.323294       세계   \n",
       "947    0.560927  0.001445  -1.313124       사회   \n",
       "\n",
       "                                        vtitle  \n",
       "433                 등굣길 초등학생, 80대 남성 집 끌려가 성폭행  \n",
       "1437         14만 전체 경찰회의로 확대 추진…이상민 “부화뇌동, 위험”  \n",
       "1020       [ET] ‘아이 안 낳는’ 한·중·일…서양인들이 분석해낸 이유?  \n",
       "1466          후쿠시마원전 항만에 세슘 물고기…“원전 오염수 관리 불능”  \n",
       "118             [크랩] 시간을 돈으로 사는 수준이라는 지하철 신분당선  \n",
       "1805  [친절한 뉴스K] 일회용품 금지 확대 석 달 앞으로…어떤 품목 안 될까?  \n",
       "690              “이틀 만에 간까지 이동”…작을수록 오래 남아 악영향  \n",
       "1272      세종시 20대 공무원 극단적 선택…“3명이 하던 일 혼자 도맡아”  \n",
       "761          “끝까지 싸우겠다”…법원 판결 이후, 이슬람 갈등 더욱 격화  \n",
       "1393            40인분 시켜놓고 ‘노쇼’… 상습 허위 주문 피해 속출  \n",
       "1257              LP가스통에 애완견 집까지…얌체 ‘장박 텐트’ 단속  \n",
       "886                 유명세에 말라가는 창원 팽나무…“보호대책 시급”  \n",
       "26              주담대 금리 어디까지 오를까?…‘영끌족’ 부담 ‘막막’  \n",
       "635    [ET] 에어컨 없던 영국이 40도…유엔 “공동대응 안 하면 다 죽어”  \n",
       "947         ‘조폭 요즘 없던데’는 착각…100일 동안 1,630명 잡혔다  "
      ]
     },
     "execution_count": 102,
     "metadata": {},
     "output_type": "execute_result"
    }
   ],
   "source": [
    "comment_cnt.sort_values('log_ratio').head(15)"
   ]
  },
  {
   "cell_type": "code",
   "execution_count": 80,
   "metadata": {},
   "outputs": [
    {
     "data": {
      "text/html": [
       "<div>\n",
       "<style scoped>\n",
       "    .dataframe tbody tr th:only-of-type {\n",
       "        vertical-align: middle;\n",
       "    }\n",
       "\n",
       "    .dataframe tbody tr th {\n",
       "        vertical-align: top;\n",
       "    }\n",
       "\n",
       "    .dataframe thead th {\n",
       "        text-align: right;\n",
       "    }\n",
       "</style>\n",
       "<table border=\"1\" class=\"dataframe\">\n",
       "  <thead>\n",
       "    <tr style=\"text-align: right;\">\n",
       "      <th></th>\n",
       "      <th>index</th>\n",
       "      <th>vid</th>\n",
       "      <th>youtube</th>\n",
       "      <th>naver</th>\n",
       "      <th>youtube_norm</th>\n",
       "      <th>naver_norm</th>\n",
       "      <th>log_youtube</th>\n",
       "      <th>log_naver</th>\n",
       "      <th>ratio</th>\n",
       "      <th>log_ratio</th>\n",
       "      <th>vtitle</th>\n",
       "      <th>category</th>\n",
       "    </tr>\n",
       "  </thead>\n",
       "  <tbody>\n",
       "    <tr>\n",
       "      <th>717</th>\n",
       "      <td>“다시 문 닫을 수도 없고”…태국 등 동남아 코로나 재확산 우려</td>\n",
       "      <td>N1WNCR4lNJw</td>\n",
       "      <td>154</td>\n",
       "      <td>83</td>\n",
       "      <td>-0.061964</td>\n",
       "      <td>7.384772</td>\n",
       "      <td>0.661675</td>\n",
       "      <td>2.239088</td>\n",
       "      <td>0.538961</td>\n",
       "      <td>1.577413</td>\n",
       "      <td>“다시 문 닫을 수도 없고”…태국 등 동남아 코로나 재확산 우려 / KBS  202...</td>\n",
       "      <td>세계</td>\n",
       "    </tr>\n",
       "    <tr>\n",
       "      <th>1698</th>\n",
       "      <td>日 입국 전 PCR 검사 면제…OECD 회원국 중 한국만 남아</td>\n",
       "      <td>uGlxlwt2LoE</td>\n",
       "      <td>52</td>\n",
       "      <td>71</td>\n",
       "      <td>-0.203123</td>\n",
       "      <td>6.210545</td>\n",
       "      <td>0.586050</td>\n",
       "      <td>2.105419</td>\n",
       "      <td>1.365385</td>\n",
       "      <td>1.519369</td>\n",
       "      <td>일본 입국 전 PCR 검사 면제…OECD 회원국 중 한국만 남아 / KBS  202...</td>\n",
       "      <td>세계</td>\n",
       "    </tr>\n",
       "    <tr>\n",
       "      <th>805</th>\n",
       "      <td>日 입국 전 PCR 검사 면제…OECD 회원국 중 한국만 남아</td>\n",
       "      <td>PazhdmqGggw</td>\n",
       "      <td>78</td>\n",
       "      <td>71</td>\n",
       "      <td>-0.167142</td>\n",
       "      <td>6.210545</td>\n",
       "      <td>0.605877</td>\n",
       "      <td>2.105419</td>\n",
       "      <td>0.910256</td>\n",
       "      <td>1.499543</td>\n",
       "      <td>일본, 입국 전 PCR 검사 면제…OECD 회원국 중 한국만 남아 / KBS  20...</td>\n",
       "      <td>세계</td>\n",
       "    </tr>\n",
       "    <tr>\n",
       "      <th>1334</th>\n",
       "      <td>[단독] 검찰, ‘수억 대 정치자금 수수’ 야당 정치인 압수수색</td>\n",
       "      <td>hl-HirpnKOY</td>\n",
       "      <td>31</td>\n",
       "      <td>65</td>\n",
       "      <td>-0.232186</td>\n",
       "      <td>5.623432</td>\n",
       "      <td>0.569744</td>\n",
       "      <td>2.031227</td>\n",
       "      <td>2.096774</td>\n",
       "      <td>1.461483</td>\n",
       "      <td>[단독] 검찰, ‘수억 대 정치자금 수수’ 야당 정치인 압수수색 / KBS  202...</td>\n",
       "      <td>사회</td>\n",
       "    </tr>\n",
       "    <tr>\n",
       "      <th>162</th>\n",
       "      <td>[제보] “콜센터 직원은 휴대전화 금지”…금융회사 ‘핸골당’ 논란</td>\n",
       "      <td>4wuO8OqsuHI</td>\n",
       "      <td>41</td>\n",
       "      <td>65</td>\n",
       "      <td>-0.218346</td>\n",
       "      <td>5.623432</td>\n",
       "      <td>0.577542</td>\n",
       "      <td>2.031227</td>\n",
       "      <td>1.585366</td>\n",
       "      <td>1.453685</td>\n",
       "      <td>[제보] “콜센터 직원은 휴대전화 금지”…금융회사 ‘핸골당’ 논란 / KBS  20...</td>\n",
       "      <td>사회</td>\n",
       "    </tr>\n",
       "    <tr>\n",
       "      <th>1749</th>\n",
       "      <td>김혜경 씨 수행비서 구속영장 기각…도청 공무원들로 수사 확대</td>\n",
       "      <td>vgZseC3gFkM</td>\n",
       "      <td>61</td>\n",
       "      <td>63</td>\n",
       "      <td>-0.190668</td>\n",
       "      <td>5.427727</td>\n",
       "      <td>0.592958</td>\n",
       "      <td>2.005220</td>\n",
       "      <td>1.032787</td>\n",
       "      <td>1.412262</td>\n",
       "      <td>김혜경 씨 수행비서 구속영장 기각…도청 공무원들로 수사 확대 / KBS  2022....</td>\n",
       "      <td>사회</td>\n",
       "    </tr>\n",
       "    <tr>\n",
       "      <th>1850</th>\n",
       "      <td>[단독] 악마 ‘엘’이 찍은 성착취물…‘일베’에서만 4만 번 조회</td>\n",
       "      <td>zXKFYZcmO_E</td>\n",
       "      <td>302</td>\n",
       "      <td>76</td>\n",
       "      <td>0.142855</td>\n",
       "      <td>6.699806</td>\n",
       "      <td>0.762139</td>\n",
       "      <td>2.163301</td>\n",
       "      <td>0.251656</td>\n",
       "      <td>1.401162</td>\n",
       "      <td>[단독] 악마 ‘엘’이 찍은 성착취물…‘일베’에서만 4만 번 조회 / KBS  20...</td>\n",
       "      <td>사회</td>\n",
       "    </tr>\n",
       "    <tr>\n",
       "      <th>1462</th>\n",
       "      <td>수학여행 다녀온 고교생 등 150여 명 코로나19 확진…일정 강행 논란</td>\n",
       "      <td>m5eQzj9Zeiw</td>\n",
       "      <td>9</td>\n",
       "      <td>59</td>\n",
       "      <td>-0.262632</td>\n",
       "      <td>5.036318</td>\n",
       "      <td>0.552372</td>\n",
       "      <td>1.951085</td>\n",
       "      <td>6.555556</td>\n",
       "      <td>1.398714</td>\n",
       "      <td>수학여행 다녀온 고교생 등 150여 명 코로나19 확진 / KBS  2022.07.20.</td>\n",
       "      <td>사회</td>\n",
       "    </tr>\n",
       "    <tr>\n",
       "      <th>610</th>\n",
       "      <td>[단독] 반지하 참사 ‘통한의 151분’…첫 신고 뒤 무슨 일 있었나?</td>\n",
       "      <td>Jv3kqYkC24A</td>\n",
       "      <td>19</td>\n",
       "      <td>59</td>\n",
       "      <td>-0.248792</td>\n",
       "      <td>5.036318</td>\n",
       "      <td>0.560306</td>\n",
       "      <td>1.951085</td>\n",
       "      <td>3.105263</td>\n",
       "      <td>1.390779</td>\n",
       "      <td>[단독] 반지하 참사 ‘통한의 151분’…첫 신고 뒤 무슨 일 있었나? / KBS ...</td>\n",
       "      <td>사회</td>\n",
       "    </tr>\n",
       "    <tr>\n",
       "      <th>1042</th>\n",
       "      <td>“납치돼 눈 떠보니 남한”…66년 만에 드러난 진실</td>\n",
       "      <td>YKFRYCE3sEw</td>\n",
       "      <td>26</td>\n",
       "      <td>55</td>\n",
       "      <td>-0.239105</td>\n",
       "      <td>4.644909</td>\n",
       "      <td>0.565822</td>\n",
       "      <td>1.893851</td>\n",
       "      <td>2.115385</td>\n",
       "      <td>1.328029</td>\n",
       "      <td>“납치돼 눈 떠보니 남한”…66년 만에 드러난 진실 / KBS  2022.08.11.</td>\n",
       "      <td>사회</td>\n",
       "    </tr>\n",
       "    <tr>\n",
       "      <th>1672</th>\n",
       "      <td>미 국무부, 한국 인신매매 방지 ‘2등급’ 강등…북·중·러는 ‘최악’</td>\n",
       "      <td>tFiI6h-KILM</td>\n",
       "      <td>23</td>\n",
       "      <td>54</td>\n",
       "      <td>-0.243257</td>\n",
       "      <td>4.547057</td>\n",
       "      <td>0.563462</td>\n",
       "      <td>1.879016</td>\n",
       "      <td>2.347826</td>\n",
       "      <td>1.315554</td>\n",
       "      <td>미 국무부, 한국 인신매매 방지 ‘2등급’ 강등…북·중·러는 ‘최악’ / KBS  ...</td>\n",
       "      <td>세계</td>\n",
       "    </tr>\n",
       "    <tr>\n",
       "      <th>1177</th>\n",
       "      <td>“차가 제주에 묶이게 됐어요”…탁송 중단에 관광객들 불똥</td>\n",
       "      <td>cAYANlrdxI0</td>\n",
       "      <td>5</td>\n",
       "      <td>53</td>\n",
       "      <td>-0.268167</td>\n",
       "      <td>4.449205</td>\n",
       "      <td>0.549180</td>\n",
       "      <td>1.863957</td>\n",
       "      <td>10.600000</td>\n",
       "      <td>1.314777</td>\n",
       "      <td>“차가 제주에 묶이게 됐어요”…탁송 중단에 관광객들 불똥 / KBS  2022.07...</td>\n",
       "      <td>사회</td>\n",
       "    </tr>\n",
       "    <tr>\n",
       "      <th>1633</th>\n",
       "      <td>“차가 제주에 묶이게 됐어요”…탁송 중단에 관광객들 불똥</td>\n",
       "      <td>s5syh_s3ze0</td>\n",
       "      <td>5</td>\n",
       "      <td>53</td>\n",
       "      <td>-0.268167</td>\n",
       "      <td>4.449205</td>\n",
       "      <td>0.549180</td>\n",
       "      <td>1.863957</td>\n",
       "      <td>10.600000</td>\n",
       "      <td>1.314777</td>\n",
       "      <td>“차가 제주에 묶이게 됐어요”…탁송 중단에 관광객들 불똥 / KBS  2022.07...</td>\n",
       "      <td>사회</td>\n",
       "    </tr>\n",
       "    <tr>\n",
       "      <th>729</th>\n",
       "      <td>“차가 제주에 묶이게 됐어요”…탁송 중단에 관광객들 불똥</td>\n",
       "      <td>NIorVSvoCE0</td>\n",
       "      <td>10</td>\n",
       "      <td>53</td>\n",
       "      <td>-0.261248</td>\n",
       "      <td>4.449205</td>\n",
       "      <td>0.553168</td>\n",
       "      <td>1.863957</td>\n",
       "      <td>5.300000</td>\n",
       "      <td>1.310789</td>\n",
       "      <td>“차가 제주에 묶이게 됐어요”…탁송 중단에 관광객들 불똥 / KBS  2022.07...</td>\n",
       "      <td>사회</td>\n",
       "    </tr>\n",
       "    <tr>\n",
       "      <th>745</th>\n",
       "      <td>[한동훈 검증]① 한동훈 후보자가 조합아파트를 산 방법?</td>\n",
       "      <td>NoaVknKtj6A</td>\n",
       "      <td>128</td>\n",
       "      <td>56</td>\n",
       "      <td>-0.097946</td>\n",
       "      <td>4.742761</td>\n",
       "      <td>0.642934</td>\n",
       "      <td>1.908470</td>\n",
       "      <td>0.437500</td>\n",
       "      <td>1.265535</td>\n",
       "      <td>[한동훈 검증]① 한동훈 후보자가 조합아파트를 산 방법? / KBS  2022.05...</td>\n",
       "      <td>사회</td>\n",
       "    </tr>\n",
       "  </tbody>\n",
       "</table>\n",
       "</div>"
      ],
      "text/plain": [
       "                                        index          vid  youtube  naver  \\\n",
       "717       “다시 문 닫을 수도 없고”…태국 등 동남아 코로나 재확산 우려  N1WNCR4lNJw      154     83   \n",
       "1698       日 입국 전 PCR 검사 면제…OECD 회원국 중 한국만 남아  uGlxlwt2LoE       52     71   \n",
       "805        日 입국 전 PCR 검사 면제…OECD 회원국 중 한국만 남아  PazhdmqGggw       78     71   \n",
       "1334      [단독] 검찰, ‘수억 대 정치자금 수수’ 야당 정치인 압수수색  hl-HirpnKOY       31     65   \n",
       "162      [제보] “콜센터 직원은 휴대전화 금지”…금융회사 ‘핸골당’ 논란  4wuO8OqsuHI       41     65   \n",
       "1749        김혜경 씨 수행비서 구속영장 기각…도청 공무원들로 수사 확대  vgZseC3gFkM       61     63   \n",
       "1850     [단독] 악마 ‘엘’이 찍은 성착취물…‘일베’에서만 4만 번 조회  zXKFYZcmO_E      302     76   \n",
       "1462  수학여행 다녀온 고교생 등 150여 명 코로나19 확진…일정 강행 논란  m5eQzj9Zeiw        9     59   \n",
       "610   [단독] 반지하 참사 ‘통한의 151분’…첫 신고 뒤 무슨 일 있었나?  Jv3kqYkC24A       19     59   \n",
       "1042             “납치돼 눈 떠보니 남한”…66년 만에 드러난 진실  YKFRYCE3sEw       26     55   \n",
       "1672   미 국무부, 한국 인신매매 방지 ‘2등급’ 강등…북·중·러는 ‘최악’  tFiI6h-KILM       23     54   \n",
       "1177          “차가 제주에 묶이게 됐어요”…탁송 중단에 관광객들 불똥  cAYANlrdxI0        5     53   \n",
       "1633          “차가 제주에 묶이게 됐어요”…탁송 중단에 관광객들 불똥  s5syh_s3ze0        5     53   \n",
       "729           “차가 제주에 묶이게 됐어요”…탁송 중단에 관광객들 불똥  NIorVSvoCE0       10     53   \n",
       "745           [한동훈 검증]① 한동훈 후보자가 조합아파트를 산 방법?  NoaVknKtj6A      128     56   \n",
       "\n",
       "      youtube_norm  naver_norm  log_youtube  log_naver      ratio  log_ratio  \\\n",
       "717      -0.061964    7.384772     0.661675   2.239088   0.538961   1.577413   \n",
       "1698     -0.203123    6.210545     0.586050   2.105419   1.365385   1.519369   \n",
       "805      -0.167142    6.210545     0.605877   2.105419   0.910256   1.499543   \n",
       "1334     -0.232186    5.623432     0.569744   2.031227   2.096774   1.461483   \n",
       "162      -0.218346    5.623432     0.577542   2.031227   1.585366   1.453685   \n",
       "1749     -0.190668    5.427727     0.592958   2.005220   1.032787   1.412262   \n",
       "1850      0.142855    6.699806     0.762139   2.163301   0.251656   1.401162   \n",
       "1462     -0.262632    5.036318     0.552372   1.951085   6.555556   1.398714   \n",
       "610      -0.248792    5.036318     0.560306   1.951085   3.105263   1.390779   \n",
       "1042     -0.239105    4.644909     0.565822   1.893851   2.115385   1.328029   \n",
       "1672     -0.243257    4.547057     0.563462   1.879016   2.347826   1.315554   \n",
       "1177     -0.268167    4.449205     0.549180   1.863957  10.600000   1.314777   \n",
       "1633     -0.268167    4.449205     0.549180   1.863957  10.600000   1.314777   \n",
       "729      -0.261248    4.449205     0.553168   1.863957   5.300000   1.310789   \n",
       "745      -0.097946    4.742761     0.642934   1.908470   0.437500   1.265535   \n",
       "\n",
       "                                                 vtitle category  \n",
       "717   “다시 문 닫을 수도 없고”…태국 등 동남아 코로나 재확산 우려 / KBS  202...       세계  \n",
       "1698  일본 입국 전 PCR 검사 면제…OECD 회원국 중 한국만 남아 / KBS  202...       세계  \n",
       "805   일본, 입국 전 PCR 검사 면제…OECD 회원국 중 한국만 남아 / KBS  20...       세계  \n",
       "1334  [단독] 검찰, ‘수억 대 정치자금 수수’ 야당 정치인 압수수색 / KBS  202...       사회  \n",
       "162   [제보] “콜센터 직원은 휴대전화 금지”…금융회사 ‘핸골당’ 논란 / KBS  20...       사회  \n",
       "1749  김혜경 씨 수행비서 구속영장 기각…도청 공무원들로 수사 확대 / KBS  2022....       사회  \n",
       "1850  [단독] 악마 ‘엘’이 찍은 성착취물…‘일베’에서만 4만 번 조회 / KBS  20...       사회  \n",
       "1462  수학여행 다녀온 고교생 등 150여 명 코로나19 확진 / KBS  2022.07.20.       사회  \n",
       "610   [단독] 반지하 참사 ‘통한의 151분’…첫 신고 뒤 무슨 일 있었나? / KBS ...       사회  \n",
       "1042    “납치돼 눈 떠보니 남한”…66년 만에 드러난 진실 / KBS  2022.08.11.       사회  \n",
       "1672  미 국무부, 한국 인신매매 방지 ‘2등급’ 강등…북·중·러는 ‘최악’ / KBS  ...       세계  \n",
       "1177  “차가 제주에 묶이게 됐어요”…탁송 중단에 관광객들 불똥 / KBS  2022.07...       사회  \n",
       "1633  “차가 제주에 묶이게 됐어요”…탁송 중단에 관광객들 불똥 / KBS  2022.07...       사회  \n",
       "729   “차가 제주에 묶이게 됐어요”…탁송 중단에 관광객들 불똥 / KBS  2022.07...       사회  \n",
       "745   [한동훈 검증]① 한동훈 후보자가 조합아파트를 산 방법? / KBS  2022.05...       사회  "
      ]
     },
     "execution_count": 80,
     "metadata": {},
     "output_type": "execute_result"
    }
   ],
   "source": [
    "comment_cnt.sort_values('log_ratio', ascending=False).head(15)"
   ]
  },
  {
   "cell_type": "code",
   "execution_count": 81,
   "metadata": {},
   "outputs": [
    {
     "data": {
      "text/html": [
       "<div>\n",
       "<style scoped>\n",
       "    .dataframe tbody tr th:only-of-type {\n",
       "        vertical-align: middle;\n",
       "    }\n",
       "\n",
       "    .dataframe tbody tr th {\n",
       "        vertical-align: top;\n",
       "    }\n",
       "\n",
       "    .dataframe thead th {\n",
       "        text-align: right;\n",
       "    }\n",
       "</style>\n",
       "<table border=\"1\" class=\"dataframe\">\n",
       "  <thead>\n",
       "    <tr style=\"text-align: right;\">\n",
       "      <th></th>\n",
       "      <th>index</th>\n",
       "      <th>vid</th>\n",
       "      <th>youtube</th>\n",
       "      <th>naver</th>\n",
       "      <th>youtube_norm</th>\n",
       "      <th>naver_norm</th>\n",
       "      <th>log_youtube</th>\n",
       "      <th>log_naver</th>\n",
       "      <th>ratio</th>\n",
       "      <th>log_ratio</th>\n",
       "      <th>vtitle</th>\n",
       "      <th>category</th>\n",
       "    </tr>\n",
       "  </thead>\n",
       "  <tbody>\n",
       "    <tr>\n",
       "      <th>348</th>\n",
       "      <td>예상보다 이른 정점?…“변이 바이러스가 변수”</td>\n",
       "      <td>AXXYgCW6zOM</td>\n",
       "      <td>20</td>\n",
       "      <td>5</td>\n",
       "      <td>-0.247409</td>\n",
       "      <td>-0.247703</td>\n",
       "      <td>0.561096</td>\n",
       "      <td>0.560927</td>\n",
       "      <td>0.250000</td>\n",
       "      <td>-0.000168</td>\n",
       "      <td>예상보다 이른 정점?…“변이 바이러스가 변수” / KBS  2022.08.03.</td>\n",
       "      <td>사회</td>\n",
       "    </tr>\n",
       "    <tr>\n",
       "      <th>1</th>\n",
       "      <td>‘제로 코로나’ 홍콩, 신규 확진 천여 명…미용실·종교시설 폐쇄, 채소대란 우려</td>\n",
       "      <td>-9w1W5DiNt0</td>\n",
       "      <td>20</td>\n",
       "      <td>5</td>\n",
       "      <td>-0.247409</td>\n",
       "      <td>-0.247703</td>\n",
       "      <td>0.561096</td>\n",
       "      <td>0.560927</td>\n",
       "      <td>0.250000</td>\n",
       "      <td>-0.000168</td>\n",
       "      <td>‘제로 코로나’ 홍콩, 신규 확진 천여 명…미용실·종교시설 폐쇄, 채소대란 우려 /...</td>\n",
       "      <td>세계</td>\n",
       "    </tr>\n",
       "    <tr>\n",
       "      <th>548</th>\n",
       "      <td>北 신의주 봉쇄 해제 확인…“신규 발열 0명”</td>\n",
       "      <td>HZ4DEaubqnM</td>\n",
       "      <td>20</td>\n",
       "      <td>5</td>\n",
       "      <td>-0.247409</td>\n",
       "      <td>-0.247703</td>\n",
       "      <td>0.561096</td>\n",
       "      <td>0.560927</td>\n",
       "      <td>0.250000</td>\n",
       "      <td>-0.000168</td>\n",
       "      <td>북한 신의주 봉쇄 해제 확인…“신규 발열 0명” / KBS  2022.07.30.</td>\n",
       "      <td>세계</td>\n",
       "    </tr>\n",
       "    <tr>\n",
       "      <th>1714</th>\n",
       "      <td>‘한국산 전기차 해법’ 협의 시작…“정밀한 공략으로 교섭”</td>\n",
       "      <td>uxDfjdeQbfc</td>\n",
       "      <td>20</td>\n",
       "      <td>5</td>\n",
       "      <td>-0.247409</td>\n",
       "      <td>-0.247703</td>\n",
       "      <td>0.561096</td>\n",
       "      <td>0.560927</td>\n",
       "      <td>0.250000</td>\n",
       "      <td>-0.000168</td>\n",
       "      <td>‘한국산 전기차 해법’ 협의 시작…“정밀한 공략으로 교섭” / KBS  2022.0...</td>\n",
       "      <td>세계</td>\n",
       "    </tr>\n",
       "    <tr>\n",
       "      <th>1324</th>\n",
       "      <td>쌍용차 회생 급물살…법원, ‘회생계획안’ 인가</td>\n",
       "      <td>hYexhnozTxM</td>\n",
       "      <td>20</td>\n",
       "      <td>5</td>\n",
       "      <td>-0.247409</td>\n",
       "      <td>-0.247703</td>\n",
       "      <td>0.561096</td>\n",
       "      <td>0.560927</td>\n",
       "      <td>0.250000</td>\n",
       "      <td>-0.000168</td>\n",
       "      <td>쌍용차 회생 급물살…법원, ‘회생계획안’ 인가 / KBS  2022.08.27.</td>\n",
       "      <td>경제</td>\n",
       "    </tr>\n",
       "    <tr>\n",
       "      <th>318</th>\n",
       "      <td>가계부채 뇌관 ‘2030’과 ‘소상공인’ 만나보니…</td>\n",
       "      <td>9ldmXHnsFGs</td>\n",
       "      <td>90</td>\n",
       "      <td>6</td>\n",
       "      <td>-0.150535</td>\n",
       "      <td>-0.149851</td>\n",
       "      <td>0.614897</td>\n",
       "      <td>0.615266</td>\n",
       "      <td>0.066667</td>\n",
       "      <td>0.000370</td>\n",
       "      <td>가계부채 뇌관 ‘2030’과 ‘소상공인’ 만나보니… / KBS  2022.05.11.</td>\n",
       "      <td>경제</td>\n",
       "    </tr>\n",
       "    <tr>\n",
       "      <th>274</th>\n",
       "      <td>[문화광장] 가상인간, 가수·배우로 연예계 본격 진출</td>\n",
       "      <td>809LGrS9kZ4</td>\n",
       "      <td>19</td>\n",
       "      <td>5</td>\n",
       "      <td>-0.248792</td>\n",
       "      <td>-0.247703</td>\n",
       "      <td>0.560306</td>\n",
       "      <td>0.560927</td>\n",
       "      <td>0.263158</td>\n",
       "      <td>0.000622</td>\n",
       "      <td>가상인간, 가수·배우로 연예계 본격 진출 / KBS  2022.02.15.</td>\n",
       "      <td>생활</td>\n",
       "    </tr>\n",
       "    <tr>\n",
       "      <th>657</th>\n",
       "      <td>근조화환·법적 대응·모금…“경찰 반발 계속”</td>\n",
       "      <td>LLXrt5GzzTA</td>\n",
       "      <td>21</td>\n",
       "      <td>5</td>\n",
       "      <td>-0.246025</td>\n",
       "      <td>-0.247703</td>\n",
       "      <td>0.561885</td>\n",
       "      <td>0.560927</td>\n",
       "      <td>0.238095</td>\n",
       "      <td>-0.000958</td>\n",
       "      <td>근조화환·법적 대응·모금…“경찰 반발 계속” / KBS  2022.07.26.</td>\n",
       "      <td>사회</td>\n",
       "    </tr>\n",
       "    <tr>\n",
       "      <th>1555</th>\n",
       "      <td>주말에도 확진자 4만 명대…내일부터 백신 4차 접종 예약</td>\n",
       "      <td>pQD0R5_FEhc</td>\n",
       "      <td>21</td>\n",
       "      <td>5</td>\n",
       "      <td>-0.246025</td>\n",
       "      <td>-0.247703</td>\n",
       "      <td>0.561885</td>\n",
       "      <td>0.560927</td>\n",
       "      <td>0.238095</td>\n",
       "      <td>-0.000958</td>\n",
       "      <td>주말에도 확진자 4만 명대…내일(18일)부터 백신 4차 접종 예약 / KBS  20...</td>\n",
       "      <td>사회</td>\n",
       "    </tr>\n",
       "    <tr>\n",
       "      <th>870</th>\n",
       "      <td>대구 주택가서 ‘새총 구슬’ 쏜 40대 검거</td>\n",
       "      <td>SIU34NMrmbg</td>\n",
       "      <td>21</td>\n",
       "      <td>5</td>\n",
       "      <td>-0.246025</td>\n",
       "      <td>-0.247703</td>\n",
       "      <td>0.561885</td>\n",
       "      <td>0.560927</td>\n",
       "      <td>0.238095</td>\n",
       "      <td>-0.000958</td>\n",
       "      <td>대구 주택가서 ‘새총 구슬’ 쏜 40대 검거 / KBS  2022.07.27.</td>\n",
       "      <td>사회</td>\n",
       "    </tr>\n",
       "    <tr>\n",
       "      <th>1116</th>\n",
       "      <td>‘2명 사망 사고’ 4개월 만에 또 폭발…“7명 중상”</td>\n",
       "      <td>a12Zu0FvTjA</td>\n",
       "      <td>21</td>\n",
       "      <td>5</td>\n",
       "      <td>-0.246025</td>\n",
       "      <td>-0.247703</td>\n",
       "      <td>0.561885</td>\n",
       "      <td>0.560927</td>\n",
       "      <td>0.238095</td>\n",
       "      <td>-0.000958</td>\n",
       "      <td>'2명 사망 사고' 4개월 만에 또…울산 석유화학단지 폭발, 7명 중상 / KBS ...</td>\n",
       "      <td>사회</td>\n",
       "    </tr>\n",
       "    <tr>\n",
       "      <th>523</th>\n",
       "      <td>[8시 날씨] 절기 ‘입추’, 폭염 계속…곳곳 강한 소나기</td>\n",
       "      <td>Ge3ojIWBZrQ</td>\n",
       "      <td>21</td>\n",
       "      <td>5</td>\n",
       "      <td>-0.246025</td>\n",
       "      <td>-0.247703</td>\n",
       "      <td>0.561885</td>\n",
       "      <td>0.560927</td>\n",
       "      <td>0.238095</td>\n",
       "      <td>-0.000958</td>\n",
       "      <td>[날씨] 절기 ‘입추’, 폭염 계속…곳곳 강한 소나기 / KBS  2022.08.07.</td>\n",
       "      <td>생활</td>\n",
       "    </tr>\n",
       "    <tr>\n",
       "      <th>45</th>\n",
       "      <td>일본 산케이신문 “독도 주변 해양조사 한국 선박에 주의 환기”</td>\n",
       "      <td>0TA-mxNWWzE</td>\n",
       "      <td>21</td>\n",
       "      <td>5</td>\n",
       "      <td>-0.246025</td>\n",
       "      <td>-0.247703</td>\n",
       "      <td>0.561885</td>\n",
       "      <td>0.560927</td>\n",
       "      <td>0.238095</td>\n",
       "      <td>-0.000958</td>\n",
       "      <td>일본 산케이신문 “독도 주변 해양조사 한국 선박에 주의 환기” / KBS  2022...</td>\n",
       "      <td>세계</td>\n",
       "    </tr>\n",
       "    <tr>\n",
       "      <th>769</th>\n",
       "      <td>[문화광장] ‘청와대서 패션 화보’ 갑론을박…문화재청 “신중할 것”</td>\n",
       "      <td>Odc5Vf9XXqA</td>\n",
       "      <td>21</td>\n",
       "      <td>5</td>\n",
       "      <td>-0.246025</td>\n",
       "      <td>-0.247703</td>\n",
       "      <td>0.561885</td>\n",
       "      <td>0.560927</td>\n",
       "      <td>0.238095</td>\n",
       "      <td>-0.000958</td>\n",
       "      <td>‘청와대서 패션 화보’ 갑론을박…문화재청 “신중할 것” [문화광장]/ KBS  20...</td>\n",
       "      <td>생활</td>\n",
       "    </tr>\n",
       "    <tr>\n",
       "      <th>1801</th>\n",
       "      <td>IMF “세계 3.2%, 우리 2.3% 성장…또 다른 경기침체 가장자리”</td>\n",
       "      <td>xu_ZH-ahZto</td>\n",
       "      <td>21</td>\n",
       "      <td>5</td>\n",
       "      <td>-0.246025</td>\n",
       "      <td>-0.247703</td>\n",
       "      <td>0.561885</td>\n",
       "      <td>0.560927</td>\n",
       "      <td>0.238095</td>\n",
       "      <td>-0.000958</td>\n",
       "      <td>IMF “세계 3.2%, 우리 2.3% 성장…또 다른 경기침체 가장자리” / KBS...</td>\n",
       "      <td>경제</td>\n",
       "    </tr>\n",
       "  </tbody>\n",
       "</table>\n",
       "</div>"
      ],
      "text/plain": [
       "                                             index          vid  youtube  \\\n",
       "348                      예상보다 이른 정점?…“변이 바이러스가 변수”  AXXYgCW6zOM       20   \n",
       "1     ‘제로 코로나’ 홍콩, 신규 확진 천여 명…미용실·종교시설 폐쇄, 채소대란 우려  -9w1W5DiNt0       20   \n",
       "548                      北 신의주 봉쇄 해제 확인…“신규 발열 0명”  HZ4DEaubqnM       20   \n",
       "1714              ‘한국산 전기차 해법’ 협의 시작…“정밀한 공략으로 교섭”  uxDfjdeQbfc       20   \n",
       "1324                     쌍용차 회생 급물살…법원, ‘회생계획안’ 인가  hYexhnozTxM       20   \n",
       "318                   가계부채 뇌관 ‘2030’과 ‘소상공인’ 만나보니…  9ldmXHnsFGs       90   \n",
       "274                  [문화광장] 가상인간, 가수·배우로 연예계 본격 진출  809LGrS9kZ4       19   \n",
       "657                       근조화환·법적 대응·모금…“경찰 반발 계속”  LLXrt5GzzTA       21   \n",
       "1555               주말에도 확진자 4만 명대…내일부터 백신 4차 접종 예약  pQD0R5_FEhc       21   \n",
       "870                       대구 주택가서 ‘새총 구슬’ 쏜 40대 검거  SIU34NMrmbg       21   \n",
       "1116                ‘2명 사망 사고’ 4개월 만에 또 폭발…“7명 중상”  a12Zu0FvTjA       21   \n",
       "523               [8시 날씨] 절기 ‘입추’, 폭염 계속…곳곳 강한 소나기  Ge3ojIWBZrQ       21   \n",
       "45              일본 산케이신문 “독도 주변 해양조사 한국 선박에 주의 환기”  0TA-mxNWWzE       21   \n",
       "769          [문화광장] ‘청와대서 패션 화보’ 갑론을박…문화재청 “신중할 것”  Odc5Vf9XXqA       21   \n",
       "1801      IMF “세계 3.2%, 우리 2.3% 성장…또 다른 경기침체 가장자리”  xu_ZH-ahZto       21   \n",
       "\n",
       "      naver  youtube_norm  naver_norm  log_youtube  log_naver     ratio  \\\n",
       "348       5     -0.247409   -0.247703     0.561096   0.560927  0.250000   \n",
       "1         5     -0.247409   -0.247703     0.561096   0.560927  0.250000   \n",
       "548       5     -0.247409   -0.247703     0.561096   0.560927  0.250000   \n",
       "1714      5     -0.247409   -0.247703     0.561096   0.560927  0.250000   \n",
       "1324      5     -0.247409   -0.247703     0.561096   0.560927  0.250000   \n",
       "318       6     -0.150535   -0.149851     0.614897   0.615266  0.066667   \n",
       "274       5     -0.248792   -0.247703     0.560306   0.560927  0.263158   \n",
       "657       5     -0.246025   -0.247703     0.561885   0.560927  0.238095   \n",
       "1555      5     -0.246025   -0.247703     0.561885   0.560927  0.238095   \n",
       "870       5     -0.246025   -0.247703     0.561885   0.560927  0.238095   \n",
       "1116      5     -0.246025   -0.247703     0.561885   0.560927  0.238095   \n",
       "523       5     -0.246025   -0.247703     0.561885   0.560927  0.238095   \n",
       "45        5     -0.246025   -0.247703     0.561885   0.560927  0.238095   \n",
       "769       5     -0.246025   -0.247703     0.561885   0.560927  0.238095   \n",
       "1801      5     -0.246025   -0.247703     0.561885   0.560927  0.238095   \n",
       "\n",
       "      log_ratio                                             vtitle category  \n",
       "348   -0.000168       예상보다 이른 정점?…“변이 바이러스가 변수” / KBS  2022.08.03.       사회  \n",
       "1     -0.000168  ‘제로 코로나’ 홍콩, 신규 확진 천여 명…미용실·종교시설 폐쇄, 채소대란 우려 /...       세계  \n",
       "548   -0.000168      북한 신의주 봉쇄 해제 확인…“신규 발열 0명” / KBS  2022.07.30.       세계  \n",
       "1714  -0.000168  ‘한국산 전기차 해법’ 협의 시작…“정밀한 공략으로 교섭” / KBS  2022.0...       세계  \n",
       "1324  -0.000168       쌍용차 회생 급물살…법원, ‘회생계획안’ 인가 / KBS  2022.08.27.       경제  \n",
       "318    0.000370    가계부채 뇌관 ‘2030’과 ‘소상공인’ 만나보니… / KBS  2022.05.11.       경제  \n",
       "274    0.000622          가상인간, 가수·배우로 연예계 본격 진출 / KBS  2022.02.15.       생활  \n",
       "657   -0.000958        근조화환·법적 대응·모금…“경찰 반발 계속” / KBS  2022.07.26.       사회  \n",
       "1555  -0.000958  주말에도 확진자 4만 명대…내일(18일)부터 백신 4차 접종 예약 / KBS  20...       사회  \n",
       "870   -0.000958        대구 주택가서 ‘새총 구슬’ 쏜 40대 검거 / KBS  2022.07.27.       사회  \n",
       "1116  -0.000958  '2명 사망 사고' 4개월 만에 또…울산 석유화학단지 폭발, 7명 중상 / KBS ...       사회  \n",
       "523   -0.000958   [날씨] 절기 ‘입추’, 폭염 계속…곳곳 강한 소나기 / KBS  2022.08.07.       생활  \n",
       "45    -0.000958  일본 산케이신문 “독도 주변 해양조사 한국 선박에 주의 환기” / KBS  2022...       세계  \n",
       "769   -0.000958  ‘청와대서 패션 화보’ 갑론을박…문화재청 “신중할 것” [문화광장]/ KBS  20...       생활  \n",
       "1801  -0.000958  IMF “세계 3.2%, 우리 2.3% 성장…또 다른 경기침체 가장자리” / KBS...       경제  "
      ]
     },
     "execution_count": 81,
     "metadata": {},
     "output_type": "execute_result"
    }
   ],
   "source": [
    "comment_cnt.loc[abs(comment_cnt.log_ratio).sort_values().index,:].head(15)"
   ]
  },
  {
   "cell_type": "code",
   "execution_count": 115,
   "metadata": {},
   "outputs": [
    {
     "data": {
      "text/plain": [
       "[<matplotlib.lines.Line2D at 0x7f741febe910>]"
      ]
     },
     "execution_count": 115,
     "metadata": {},
     "output_type": "execute_result"
    },
    {
     "data": {
      "image/png": "[encoded data removed]",
      "text/plain": [
       "<Figure size 432x288 with 1 Axes>"
      ]
     },
     "metadata": {
      "needs_background": "light"
     },
     "output_type": "display_data"
    }
   ],
   "source": [
    "import matplotlib.pyplot as plt\n",
    "\n",
    "plt.plot(youtube_filtered.groupby('vtitle').size().sort_values(ascending=False).values)"
   ]
  },
  {
   "cell_type": "code",
   "execution_count": 116,
   "metadata": {},
   "outputs": [
    {
     "data": {
      "text/plain": [
       "[<matplotlib.lines.Line2D at 0x7f741fe45e80>]"
      ]
     },
     "execution_count": 116,
     "metadata": {},
     "output_type": "execute_result"
    },
    {
     "data": {
      "image/png": "[encoded data removed]",
      "text/plain": [
       "<Figure size 432x288 with 1 Axes>"
      ]
     },
     "metadata": {
      "needs_background": "light"
     },
     "output_type": "display_data"
    }
   ],
   "source": [
    "plt.plot(naver_filtered.groupby('vtitle').size().sort_values(ascending=False).values)"
   ]
  },
  {
   "cell_type": "code",
   "execution_count": 143,
   "metadata": {},
   "outputs": [
    {
     "name": "stdout",
     "output_type": "stream",
     "text": [
      "2022-01-03\n"
     ]
    }
   ],
   "source": [
    "for item in youtube_filtered['ctime']:\n",
    "    print(item[:10])\n",
    "    \n",
    "    break"
   ]
  },
  {
   "cell_type": "code",
   "execution_count": 147,
   "metadata": {},
   "outputs": [],
   "source": [
    "naver_filtered['cymd'] = naver_filtered['ctime'].apply(lambda x: x[:4] + '-' + x[5:7] + '-' + x[8:10])"
   ]
  },
  {
   "cell_type": "code",
   "execution_count": 169,
   "metadata": {},
   "outputs": [],
   "source": [
    "def nan_pass(x):\n",
    "    if type('str') == type(x):\n",
    "        return x[:10]\n",
    "    else:\n",
    "        return '9999-99-99'"
   ]
  },
  {
   "cell_type": "code",
   "execution_count": 171,
   "metadata": {},
   "outputs": [],
   "source": [
    "youtube_filtered['cymd'] = youtube_filtered['ctime'].apply(lambda x : nan_pass(x))\n",
    "naver_filtered['cymd'] = naver_filtered['ctime'].apply(lambda x : x[:10])"
   ]
  },
  {
   "cell_type": "code",
   "execution_count": 174,
   "metadata": {},
   "outputs": [
    {
     "data": {
      "text/plain": [
       "[<matplotlib.lines.Line2D at 0x7f740d11cc40>]"
      ]
     },
     "execution_count": 174,
     "metadata": {},
     "output_type": "execute_result"
    },
    {
     "data": {
      "image/png": "[encoded data removed]",
      "text/plain": [
       "<Figure size 432x288 with 1 Axes>"
      ]
     },
     "metadata": {
      "needs_background": "light"
     },
     "output_type": "display_data"
    }
   ],
   "source": [
    "plt.plot(youtube_filtered.groupby('cymd').size().sort_values(ascending=False))"
   ]
  },
  {
   "cell_type": "code",
   "execution_count": 175,
   "metadata": {},
   "outputs": [
    {
     "data": {
      "text/plain": [
       "[<matplotlib.lines.Line2D at 0x7f740cdab4f0>]"
      ]
     },
     "execution_count": 175,
     "metadata": {},
     "output_type": "execute_result"
    },
    {
     "data": {
      "image/png": "[encoded data removed]",
      "text/plain": [
       "<Figure size 432x288 with 1 Axes>"
      ]
     },
     "metadata": {
      "needs_background": "light"
     },
     "output_type": "display_data"
    }
   ],
   "source": [
    "plt.plot(naver_filtered.groupby('cymd').size().sort_values(ascending=False))"
   ]
  },
  {
   "cell_type": "code",
   "execution_count": 177,
   "metadata": {},
   "outputs": [
    {
     "data": {
      "text/plain": [
       "[<matplotlib.lines.Line2D at 0x7f740cb21910>]"
      ]
     },
     "execution_count": 177,
     "metadata": {},
     "output_type": "execute_result"
    },
    {
     "data": {
      "image/png": "[encoded data removed]",
      "text/plain": [
       "<Figure size 432x288 with 1 Axes>"
      ]
     },
     "metadata": {
      "needs_background": "light"
     },
     "output_type": "display_data"
    }
   ],
   "source": [
    "plt.plot(youtube_filtered.groupby('cymd').size())"
   ]
  },
  {
   "cell_type": "code",
   "execution_count": 178,
   "metadata": {},
   "outputs": [
    {
     "data": {
      "text/plain": [
       "[<matplotlib.lines.Line2D at 0x7f740c831160>]"
      ]
     },
     "execution_count": 178,
     "metadata": {},
     "output_type": "execute_result"
    },
    {
     "data": {
      "image/png": "[encoded data removed]",
      "text/plain": [
       "<Figure size 432x288 with 1 Axes>"
      ]
     },
     "metadata": {
      "needs_background": "light"
     },
     "output_type": "display_data"
    }
   ],
   "source": [
    "plt.plot(naver_filtered.groupby('cymd').size())"
   ]
  }
 ],
 "metadata": {
  "kernelspec": {
   "display_name": "Python 3.8.12 ('save')",
   "language": "python",
   "name": "python3"
  },
  "language_info": {
   "codemirror_mode": {
    "name": "ipython",
    "version": 3
   },
   "file_extension": ".py",
   "mimetype": "text/x-python",
   "name": "python",
   "nbconvert_exporter": "python",
   "pygments_lexer": "ipython3",
   "version": "3.8.12"
  },
  "orig_nbformat": 4,
  "vscode": {
   "interpreter": {
    "hash": "6632c70ce360d611e847e5318887868e2366d56c00e5f501b5a0b067a934dfe7"
   }
  }
 },
 "nbformat": 4,
 "nbformat_minor": 2
}
