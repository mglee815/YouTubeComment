{
 "cells": [
  {
   "cell_type": "code",
   "execution_count": 2,
   "metadata": {},
   "outputs": [],
   "source": [
    "import pandas as pd"
   ]
  },
  {
   "cell_type": "code",
   "execution_count": 3,
   "metadata": {},
   "outputs": [],
   "source": [
    "df = pd.read_pickle(\"../data/KBS_2022-09-01_2022-09-16.pkl\")"
   ]
  },
  {
   "cell_type": "code",
   "execution_count": 5,
   "metadata": {},
   "outputs": [
    {
     "data": {
      "text/plain": [
       "18028    힘들고 위험한 생산직 직군들은 왜 전부다 하청인지 이해가 안간다...조선소도 조선소...\n",
       "31798    포스코 야간근무 지금 퇴근도 모하고 회사가쳤습니다..... 포스코 난리도 아닙니다....\n",
       "31878                                               포스코불났다\n",
       "33009                                              포스코 불났다\n",
       "35368                                              포스코 침수;\n",
       "                               ...                        \n",
       "89596    ㅋㅋㅋㅋ 진짜 말도안된다 침수정도가 얼마나 심각하길래 바로 단가인상까지 갔는데 이렇...\n",
       "89597     협력사 직원들 데려다 쓰는데 일당 전혀 안 주고 &#39;자원봉사&#39;로 시킨다며?\n",
       "89598                                            안마의자 아깝다.\n",
       "89599    재가동?<br>웃기고 자빠졌네.<br>포스코 전라인 전기설비,모터 복구에만 최소 수...\n",
       "89600    원상 복구는 국가적으로 경사입니다.  손실 난거 몇배는 수익하여 세금도 내고 국가 ...\n",
       "Name: comment, Length: 285, dtype: object"
      ]
     },
     "execution_count": 5,
     "metadata": {},
     "output_type": "execute_result"
    }
   ],
   "source": [
    "lst = []\n",
    "TARGET = '포스코'\n",
    "\n",
    "\n",
    "for idx, i in enumerate(df['comment']):\n",
    "    if TARGET in str(i):\n",
    "        lst.append(idx)\n",
    "\n",
    "\n",
    "for idx, i in enumerate(df['video_title']):\n",
    "    if TARGET in str(i):\n",
    "        lst.append(idx)\n",
    "\n",
    "list(set(lst))\n",
    "\n",
    "df.loc[lst,'comment']"
   ]
  },
  {
   "cell_type": "code",
   "execution_count": 9,
   "metadata": {},
   "outputs": [
    {
     "data": {
      "text/plain": [
       "video_title\n",
       "[글로벌K] 영국 여왕이 생전 아끼던 ‘로열견’ 어디로… / KBS  2022.09.13.                        1\n",
       "[르포] 태풍 할퀴고 간 피해 현장…\"복구 엄두도 안 나요\" / KBS  2022.09.07.                      2\n",
       "[자막뉴스] '귀하신 몸' 개발자 모시기 경쟁 치열…중소기업 \"대기업이 싹 쓸어가서...\" 울상 / KBS 2022.9.13     1\n",
       "[자막뉴스] '기록적인 폭우'...포항제철소 가동 전면 중단 / KBS 2022.9.7                          2\n",
       "[특보] 경북 포항 침수·범람 2천명 대피령…이 시각 포항 / KBS  2022.09.06.                       3\n",
       "[특보] 태풍 힌남노 빠져나가는 경북 동해안, 포항제철소 일시 조업 중단 - 이 시각 포항 / KBS  2022.09.05.     1\n",
       "[특보] 포스코 포항제철소 공장 3곳 불…진화중 / KBS  2022.09.06.                            10\n",
       "[특보] 포스코 포항제철소 불…자체 소방대원 4명 한 때 고립 / KBS  2022.09.06.                     1\n",
       "“그래도 다시 일어서야”…수해 복구 본격화 / KBS  2022.09.08.                                1\n",
       "“차수판만 있었더라도…옆 아파트는 설치” / KBS  2022.09.08.                                 1\n",
       "“포항제철소 정상화 6개월”…장기화 땐 산업계 ‘비상’ / KBS  2022.09.15.                        94\n",
       "“포항제철소 정상화 6개월”…장기화 땐 산업계 ‘비상’ / KBS  2022.09.16.                         4\n",
       "가동 멈춘 포항 공단…정부 복구 전담팀 가동 / KBS  2022.09.14.                               1\n",
       "목화의 땅 조지아가 한국 기업을 원하는 이유는? / KBS  2022.09.12.                             1\n",
       "신고리 1호기 수동 정지 후 정비…신월성 2호기 제어봉 낙하로 정지 / KBS  2022.09.09.                  1\n",
       "연휴에도 복구 작업…포스코 3고로 재가동 / KBS  2022.09.12.                                12\n",
       "인플레감축법으로 배터리도 ‘발등의 불’…해법은? / KBS  2022.09.12.                             1\n",
       "일주일에 태풍 3개…가을 태풍 세력 커졌다 / KBS  2022.09.14.                                1\n",
       "조선 숙련공 부족에도 '파업' 노조원 고용 승계 ‘외면’ / KBS  2022.09.01.                        1\n",
       "참극 부른 냉천…급경사 하천에 정비 사업까지 / KBS  2022.09.08.                               2\n",
       "추석 민심 확인한 여야, 앞다퉈 ‘민생’ 외치지만… / KBS  2022.09.12.                           1\n",
       "추석 앞두고 또 태풍 발생…예상 진로는? / KBS  2022.09.08.                                 1\n",
       "태풍 '힌남노'에 포항제철소 침수·정전…\"49년 만에 처음 전면 가동 중단\" / KBS  2022.09.07.             3\n",
       "태풍 ‘난마돌’ 북상…다음주 초 제주·영남 해안 영향 / KBS  2022.09.15.                          1\n",
       "포스코 포항제철소, 태풍 피해로 가동 전면 중단…“49년 만에 처음” / KBS  2022.09.07.                99\n",
       "포스코, 포항 3고로 가동 중단 나흘 만에 재가동 / KBS  2022.09.11.                           37\n",
       "포항제철소 \"순차적 가동 재개…용광로 모레쯤 정상화\" / KBS  2022.09.08.                          1\n",
       "힘겨웠던 추석 연휴…아직도 먼 일상 / KBS  2022.09.13.                                    1\n",
       "dtype: int64"
      ]
     },
     "execution_count": 9,
     "metadata": {},
     "output_type": "execute_result"
    }
   ],
   "source": [
    "df.loc[lst,:].groupby('video_title').size()"
   ]
  }
 ],
 "metadata": {
  "kernelspec": {
   "display_name": "Python 3.8.12 ('save')",
   "language": "python",
   "name": "python3"
  },
  "language_info": {
   "codemirror_mode": {
    "name": "ipython",
    "version": 3
   },
   "file_extension": ".py",
   "mimetype": "text/x-python",
   "name": "python",
   "nbconvert_exporter": "python",
   "pygments_lexer": "ipython3",
   "version": "3.8.12"
  },
  "orig_nbformat": 4,
  "vscode": {
   "interpreter": {
    "hash": "6632c70ce360d611e847e5318887868e2366d56c00e5f501b5a0b067a934dfe7"
   }
  }
 },
 "nbformat": 4,
 "nbformat_minor": 2
}
